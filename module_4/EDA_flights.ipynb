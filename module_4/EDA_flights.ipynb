{
 "cells": [
  {
   "cell_type": "code",
   "execution_count": 1,
   "metadata": {},
   "outputs": [],
   "source": [
    "import numpy as np\n",
    "import matplotlib.pyplot as plt\n",
    "import seaborn as sns\n",
    "from datetime import datetime, timedelta\n",
    "import calendar\n",
    "import pandas as pd"
   ]
  },
  {
   "cell_type": "code",
   "execution_count": 2,
   "metadata": {},
   "outputs": [],
   "source": [
    "data = pd.read_csv('Project_4.csv')"
   ]
  },
  {
   "cell_type": "code",
   "execution_count": 3,
   "metadata": {},
   "outputs": [
    {
     "name": "stdout",
     "output_type": "stream",
     "text": [
      "<class 'pandas.core.frame.DataFrame'>\n",
      "RangeIndex: 127 entries, 0 to 126\n",
      "Data columns (total 14 columns):\n",
      " #   Column               Non-Null Count  Dtype  \n",
      "---  ------               --------------  -----  \n",
      " 0   flight_id            127 non-null    int64  \n",
      " 1   flight_no            127 non-null    object \n",
      " 2   departure_city       127 non-null    object \n",
      " 3   arrival_city         127 non-null    object \n",
      " 4   scheduled_departure  127 non-null    object \n",
      " 5   scheduled_arrival    127 non-null    object \n",
      " 6   seats_sold           118 non-null    float64\n",
      " 7   economy_sold         118 non-null    float64\n",
      " 8   business_sold        118 non-null    float64\n",
      " 9   total_seats          127 non-null    int64  \n",
      " 10  economy_value        118 non-null    float64\n",
      " 11  total_value          118 non-null    float64\n",
      " 12  model                127 non-null    object \n",
      " 13  flight_minutes       127 non-null    float64\n",
      "dtypes: float64(6), int64(2), object(6)\n",
      "memory usage: 14.0+ KB\n"
     ]
    }
   ],
   "source": [
    "data.info()"
   ]
  },
  {
   "cell_type": "code",
   "execution_count": 4,
   "metadata": {
    "scrolled": true
   },
   "outputs": [
    {
     "data": {
      "text/html": [
       "<div>\n",
       "<style scoped>\n",
       "    .dataframe tbody tr th:only-of-type {\n",
       "        vertical-align: middle;\n",
       "    }\n",
       "\n",
       "    .dataframe tbody tr th {\n",
       "        vertical-align: top;\n",
       "    }\n",
       "\n",
       "    .dataframe thead th {\n",
       "        text-align: right;\n",
       "    }\n",
       "</style>\n",
       "<table border=\"1\" class=\"dataframe\">\n",
       "  <thead>\n",
       "    <tr style=\"text-align: right;\">\n",
       "      <th></th>\n",
       "      <th>flight_id</th>\n",
       "      <th>flight_no</th>\n",
       "      <th>departure_city</th>\n",
       "      <th>arrival_city</th>\n",
       "      <th>scheduled_departure</th>\n",
       "      <th>scheduled_arrival</th>\n",
       "      <th>seats_sold</th>\n",
       "      <th>economy_sold</th>\n",
       "      <th>business_sold</th>\n",
       "      <th>total_seats</th>\n",
       "      <th>economy_value</th>\n",
       "      <th>total_value</th>\n",
       "      <th>model</th>\n",
       "      <th>flight_minutes</th>\n",
       "    </tr>\n",
       "  </thead>\n",
       "  <tbody>\n",
       "    <tr>\n",
       "      <th>81</th>\n",
       "      <td>136729</td>\n",
       "      <td>PG0480</td>\n",
       "      <td>Anapa</td>\n",
       "      <td>Belgorod</td>\n",
       "      <td>2017-01-29T09:25:00Z</td>\n",
       "      <td>2017-01-29T10:15:00Z</td>\n",
       "      <td>88.0</td>\n",
       "      <td>77.0</td>\n",
       "      <td>11.0</td>\n",
       "      <td>97</td>\n",
       "      <td>487500.0</td>\n",
       "      <td>695400.0</td>\n",
       "      <td>Sukhoi Superjet-100</td>\n",
       "      <td>50.0</td>\n",
       "    </tr>\n",
       "    <tr>\n",
       "      <th>74</th>\n",
       "      <td>136666</td>\n",
       "      <td>PG0480</td>\n",
       "      <td>Anapa</td>\n",
       "      <td>Belgorod</td>\n",
       "      <td>2017-02-09T09:25:00Z</td>\n",
       "      <td>2017-02-09T10:15:00Z</td>\n",
       "      <td>87.0</td>\n",
       "      <td>78.0</td>\n",
       "      <td>9.0</td>\n",
       "      <td>97</td>\n",
       "      <td>494400.0</td>\n",
       "      <td>664500.0</td>\n",
       "      <td>Sukhoi Superjet-100</td>\n",
       "      <td>50.0</td>\n",
       "    </tr>\n",
       "    <tr>\n",
       "      <th>91</th>\n",
       "      <td>136781</td>\n",
       "      <td>PG0480</td>\n",
       "      <td>Anapa</td>\n",
       "      <td>Belgorod</td>\n",
       "      <td>2017-01-14T09:25:00Z</td>\n",
       "      <td>2017-01-14T10:15:00Z</td>\n",
       "      <td>97.0</td>\n",
       "      <td>85.0</td>\n",
       "      <td>12.0</td>\n",
       "      <td>97</td>\n",
       "      <td>538500.0</td>\n",
       "      <td>765300.0</td>\n",
       "      <td>Sukhoi Superjet-100</td>\n",
       "      <td>50.0</td>\n",
       "    </tr>\n",
       "  </tbody>\n",
       "</table>\n",
       "</div>"
      ],
      "text/plain": [
       "    flight_id flight_no departure_city arrival_city   scheduled_departure  \\\n",
       "81     136729    PG0480          Anapa     Belgorod  2017-01-29T09:25:00Z   \n",
       "74     136666    PG0480          Anapa     Belgorod  2017-02-09T09:25:00Z   \n",
       "91     136781    PG0480          Anapa     Belgorod  2017-01-14T09:25:00Z   \n",
       "\n",
       "       scheduled_arrival  seats_sold  economy_sold  business_sold  \\\n",
       "81  2017-01-29T10:15:00Z        88.0          77.0           11.0   \n",
       "74  2017-02-09T10:15:00Z        87.0          78.0            9.0   \n",
       "91  2017-01-14T10:15:00Z        97.0          85.0           12.0   \n",
       "\n",
       "    total_seats  economy_value  total_value                model  \\\n",
       "81           97       487500.0     695400.0  Sukhoi Superjet-100   \n",
       "74           97       494400.0     664500.0  Sukhoi Superjet-100   \n",
       "91           97       538500.0     765300.0  Sukhoi Superjet-100   \n",
       "\n",
       "    flight_minutes  \n",
       "81            50.0  \n",
       "74            50.0  \n",
       "91            50.0  "
      ]
     },
     "execution_count": 4,
     "metadata": {},
     "output_type": "execute_result"
    }
   ],
   "source": [
    "data.sample(3)"
   ]
  },
  {
   "cell_type": "code",
   "execution_count": 5,
   "metadata": {},
   "outputs": [],
   "source": [
    "# В давафрейме есть пропущенные значения, заменим их на 0\n",
    "data.fillna(0, inplace=True)"
   ]
  },
  {
   "cell_type": "code",
   "execution_count": 6,
   "metadata": {},
   "outputs": [
    {
     "data": {
      "text/html": [
       "<div>\n",
       "<style scoped>\n",
       "    .dataframe tbody tr th:only-of-type {\n",
       "        vertical-align: middle;\n",
       "    }\n",
       "\n",
       "    .dataframe tbody tr th {\n",
       "        vertical-align: top;\n",
       "    }\n",
       "\n",
       "    .dataframe thead th {\n",
       "        text-align: right;\n",
       "    }\n",
       "</style>\n",
       "<table border=\"1\" class=\"dataframe\">\n",
       "  <thead>\n",
       "    <tr style=\"text-align: right;\">\n",
       "      <th></th>\n",
       "      <th>flight_id</th>\n",
       "      <th>flight_no</th>\n",
       "      <th>departure_city</th>\n",
       "      <th>arrival_city</th>\n",
       "      <th>scheduled_departure</th>\n",
       "      <th>scheduled_arrival</th>\n",
       "      <th>seats_sold</th>\n",
       "      <th>economy_sold</th>\n",
       "      <th>business_sold</th>\n",
       "      <th>total_seats</th>\n",
       "      <th>economy_value</th>\n",
       "      <th>total_value</th>\n",
       "      <th>model</th>\n",
       "      <th>flight_minutes</th>\n",
       "    </tr>\n",
       "  </thead>\n",
       "  <tbody>\n",
       "    <tr>\n",
       "      <th>118</th>\n",
       "      <td>136523</td>\n",
       "      <td>PG0194</td>\n",
       "      <td>Anapa</td>\n",
       "      <td>Novokuznetsk</td>\n",
       "      <td>2017-01-10T06:10:00Z</td>\n",
       "      <td>2017-01-10T11:15:00Z</td>\n",
       "      <td>0.0</td>\n",
       "      <td>0.0</td>\n",
       "      <td>0.0</td>\n",
       "      <td>130</td>\n",
       "      <td>0.0</td>\n",
       "      <td>0.0</td>\n",
       "      <td>Boeing 737-300</td>\n",
       "      <td>312.0</td>\n",
       "    </tr>\n",
       "    <tr>\n",
       "      <th>119</th>\n",
       "      <td>136513</td>\n",
       "      <td>PG0194</td>\n",
       "      <td>Anapa</td>\n",
       "      <td>Novokuznetsk</td>\n",
       "      <td>2017-02-28T06:10:00Z</td>\n",
       "      <td>2017-02-28T11:15:00Z</td>\n",
       "      <td>0.0</td>\n",
       "      <td>0.0</td>\n",
       "      <td>0.0</td>\n",
       "      <td>130</td>\n",
       "      <td>0.0</td>\n",
       "      <td>0.0</td>\n",
       "      <td>Boeing 737-300</td>\n",
       "      <td>310.0</td>\n",
       "    </tr>\n",
       "    <tr>\n",
       "      <th>120</th>\n",
       "      <td>136514</td>\n",
       "      <td>PG0194</td>\n",
       "      <td>Anapa</td>\n",
       "      <td>Novokuznetsk</td>\n",
       "      <td>2017-02-07T06:10:00Z</td>\n",
       "      <td>2017-02-07T11:15:00Z</td>\n",
       "      <td>0.0</td>\n",
       "      <td>0.0</td>\n",
       "      <td>0.0</td>\n",
       "      <td>130</td>\n",
       "      <td>0.0</td>\n",
       "      <td>0.0</td>\n",
       "      <td>Boeing 737-300</td>\n",
       "      <td>299.0</td>\n",
       "    </tr>\n",
       "    <tr>\n",
       "      <th>121</th>\n",
       "      <td>136560</td>\n",
       "      <td>PG0194</td>\n",
       "      <td>Anapa</td>\n",
       "      <td>Novokuznetsk</td>\n",
       "      <td>2017-01-24T06:10:00Z</td>\n",
       "      <td>2017-01-24T11:15:00Z</td>\n",
       "      <td>0.0</td>\n",
       "      <td>0.0</td>\n",
       "      <td>0.0</td>\n",
       "      <td>130</td>\n",
       "      <td>0.0</td>\n",
       "      <td>0.0</td>\n",
       "      <td>Boeing 737-300</td>\n",
       "      <td>305.0</td>\n",
       "    </tr>\n",
       "    <tr>\n",
       "      <th>122</th>\n",
       "      <td>136544</td>\n",
       "      <td>PG0194</td>\n",
       "      <td>Anapa</td>\n",
       "      <td>Novokuznetsk</td>\n",
       "      <td>2017-01-31T06:10:00Z</td>\n",
       "      <td>2017-01-31T11:15:00Z</td>\n",
       "      <td>0.0</td>\n",
       "      <td>0.0</td>\n",
       "      <td>0.0</td>\n",
       "      <td>130</td>\n",
       "      <td>0.0</td>\n",
       "      <td>0.0</td>\n",
       "      <td>Boeing 737-300</td>\n",
       "      <td>304.0</td>\n",
       "    </tr>\n",
       "    <tr>\n",
       "      <th>123</th>\n",
       "      <td>136511</td>\n",
       "      <td>PG0194</td>\n",
       "      <td>Anapa</td>\n",
       "      <td>Novokuznetsk</td>\n",
       "      <td>2017-02-21T06:10:00Z</td>\n",
       "      <td>2017-02-21T11:15:00Z</td>\n",
       "      <td>0.0</td>\n",
       "      <td>0.0</td>\n",
       "      <td>0.0</td>\n",
       "      <td>130</td>\n",
       "      <td>0.0</td>\n",
       "      <td>0.0</td>\n",
       "      <td>Boeing 737-300</td>\n",
       "      <td>310.0</td>\n",
       "    </tr>\n",
       "    <tr>\n",
       "      <th>124</th>\n",
       "      <td>136540</td>\n",
       "      <td>PG0194</td>\n",
       "      <td>Anapa</td>\n",
       "      <td>Novokuznetsk</td>\n",
       "      <td>2017-01-17T06:10:00Z</td>\n",
       "      <td>2017-01-17T11:15:00Z</td>\n",
       "      <td>0.0</td>\n",
       "      <td>0.0</td>\n",
       "      <td>0.0</td>\n",
       "      <td>130</td>\n",
       "      <td>0.0</td>\n",
       "      <td>0.0</td>\n",
       "      <td>Boeing 737-300</td>\n",
       "      <td>307.0</td>\n",
       "    </tr>\n",
       "    <tr>\n",
       "      <th>125</th>\n",
       "      <td>136546</td>\n",
       "      <td>PG0194</td>\n",
       "      <td>Anapa</td>\n",
       "      <td>Novokuznetsk</td>\n",
       "      <td>2017-01-03T06:10:00Z</td>\n",
       "      <td>2017-01-03T11:15:00Z</td>\n",
       "      <td>0.0</td>\n",
       "      <td>0.0</td>\n",
       "      <td>0.0</td>\n",
       "      <td>130</td>\n",
       "      <td>0.0</td>\n",
       "      <td>0.0</td>\n",
       "      <td>Boeing 737-300</td>\n",
       "      <td>302.0</td>\n",
       "    </tr>\n",
       "    <tr>\n",
       "      <th>126</th>\n",
       "      <td>136567</td>\n",
       "      <td>PG0194</td>\n",
       "      <td>Anapa</td>\n",
       "      <td>Novokuznetsk</td>\n",
       "      <td>2017-02-14T06:10:00Z</td>\n",
       "      <td>2017-02-14T11:15:00Z</td>\n",
       "      <td>0.0</td>\n",
       "      <td>0.0</td>\n",
       "      <td>0.0</td>\n",
       "      <td>130</td>\n",
       "      <td>0.0</td>\n",
       "      <td>0.0</td>\n",
       "      <td>Boeing 737-300</td>\n",
       "      <td>311.0</td>\n",
       "    </tr>\n",
       "  </tbody>\n",
       "</table>\n",
       "</div>"
      ],
      "text/plain": [
       "     flight_id flight_no departure_city  arrival_city   scheduled_departure  \\\n",
       "118     136523    PG0194          Anapa  Novokuznetsk  2017-01-10T06:10:00Z   \n",
       "119     136513    PG0194          Anapa  Novokuznetsk  2017-02-28T06:10:00Z   \n",
       "120     136514    PG0194          Anapa  Novokuznetsk  2017-02-07T06:10:00Z   \n",
       "121     136560    PG0194          Anapa  Novokuznetsk  2017-01-24T06:10:00Z   \n",
       "122     136544    PG0194          Anapa  Novokuznetsk  2017-01-31T06:10:00Z   \n",
       "123     136511    PG0194          Anapa  Novokuznetsk  2017-02-21T06:10:00Z   \n",
       "124     136540    PG0194          Anapa  Novokuznetsk  2017-01-17T06:10:00Z   \n",
       "125     136546    PG0194          Anapa  Novokuznetsk  2017-01-03T06:10:00Z   \n",
       "126     136567    PG0194          Anapa  Novokuznetsk  2017-02-14T06:10:00Z   \n",
       "\n",
       "        scheduled_arrival  seats_sold  economy_sold  business_sold  \\\n",
       "118  2017-01-10T11:15:00Z         0.0           0.0            0.0   \n",
       "119  2017-02-28T11:15:00Z         0.0           0.0            0.0   \n",
       "120  2017-02-07T11:15:00Z         0.0           0.0            0.0   \n",
       "121  2017-01-24T11:15:00Z         0.0           0.0            0.0   \n",
       "122  2017-01-31T11:15:00Z         0.0           0.0            0.0   \n",
       "123  2017-02-21T11:15:00Z         0.0           0.0            0.0   \n",
       "124  2017-01-17T11:15:00Z         0.0           0.0            0.0   \n",
       "125  2017-01-03T11:15:00Z         0.0           0.0            0.0   \n",
       "126  2017-02-14T11:15:00Z         0.0           0.0            0.0   \n",
       "\n",
       "     total_seats  economy_value  total_value           model  flight_minutes  \n",
       "118          130            0.0          0.0  Boeing 737-300           312.0  \n",
       "119          130            0.0          0.0  Boeing 737-300           310.0  \n",
       "120          130            0.0          0.0  Boeing 737-300           299.0  \n",
       "121          130            0.0          0.0  Boeing 737-300           305.0  \n",
       "122          130            0.0          0.0  Boeing 737-300           304.0  \n",
       "123          130            0.0          0.0  Boeing 737-300           310.0  \n",
       "124          130            0.0          0.0  Boeing 737-300           307.0  \n",
       "125          130            0.0          0.0  Boeing 737-300           302.0  \n",
       "126          130            0.0          0.0  Boeing 737-300           311.0  "
      ]
     },
     "execution_count": 6,
     "metadata": {},
     "output_type": "execute_result"
    }
   ],
   "source": [
    "# Все рейсы без данных о доходах - из Анапы в Новокузнецк\n",
    "data[data['total_value'] == 0]"
   ]
  },
  {
   "cell_type": "code",
   "execution_count": 7,
   "metadata": {},
   "outputs": [],
   "source": [
    "# Удалим их\n",
    "data = data[data['arrival_city'] != 'Novokuznetsk']"
   ]
  },
  {
   "cell_type": "code",
   "execution_count": 8,
   "metadata": {},
   "outputs": [
    {
     "name": "stdout",
     "output_type": "stream",
     "text": [
      "<class 'pandas.core.frame.DataFrame'>\n",
      "Int64Index: 118 entries, 0 to 117\n",
      "Data columns (total 14 columns):\n",
      " #   Column               Non-Null Count  Dtype  \n",
      "---  ------               --------------  -----  \n",
      " 0   flight_id            118 non-null    int64  \n",
      " 1   flight_no            118 non-null    object \n",
      " 2   departure_city       118 non-null    object \n",
      " 3   arrival_city         118 non-null    object \n",
      " 4   scheduled_departure  118 non-null    object \n",
      " 5   scheduled_arrival    118 non-null    object \n",
      " 6   seats_sold           118 non-null    float64\n",
      " 7   economy_sold         118 non-null    float64\n",
      " 8   business_sold        118 non-null    float64\n",
      " 9   total_seats          118 non-null    int64  \n",
      " 10  economy_value        118 non-null    float64\n",
      " 11  total_value          118 non-null    float64\n",
      " 12  model                118 non-null    object \n",
      " 13  flight_minutes       118 non-null    float64\n",
      "dtypes: float64(6), int64(2), object(6)\n",
      "memory usage: 13.8+ KB\n"
     ]
    }
   ],
   "source": [
    "data.info(3)"
   ]
  },
  {
   "cell_type": "code",
   "execution_count": 9,
   "metadata": {},
   "outputs": [],
   "source": [
    "# Переводим в формат Datetime дату и время прибытия и отправления\n",
    "data['scheduled_departure'] = data['scheduled_departure'].apply(\n",
    "                   lambda x: datetime.strptime(x, '%Y-%m-%dT%H:%M:%SZ'))\n",
    "data['scheduled_arrival'] = data['scheduled_arrival'].apply(\n",
    "                   lambda x: datetime.strptime(x, '%Y-%m-%dT%H:%M:%SZ'))"
   ]
  },
  {
   "cell_type": "code",
   "execution_count": 10,
   "metadata": {},
   "outputs": [],
   "source": [
    "# День недели отправки рейса\n",
    "data['departure_day'] = data['scheduled_departure'].dt.weekday\n",
    "# Время вылета\n",
    "data['departure_time'] = data['scheduled_departure'].apply(lambda x: x.time())\n",
    "# Дата вылета\n",
    "data['departure_date'] = data['scheduled_departure'].apply(lambda x: x.date())\n",
    "# Месяц вылета\n",
    "data['departure_month'] = data['scheduled_departure'].dt.month"
   ]
  },
  {
   "cell_type": "markdown",
   "metadata": {},
   "source": [
    "Посмотрим, какие модели самолетов летают на рейсах из Анапы, сколько было рейсов, какая средняя длительность рейса и среднее количество мест в самолете"
   ]
  },
  {
   "cell_type": "code",
   "execution_count": 11,
   "metadata": {},
   "outputs": [
    {
     "data": {
      "text/html": [
       "<div>\n",
       "<style scoped>\n",
       "    .dataframe tbody tr th:only-of-type {\n",
       "        vertical-align: middle;\n",
       "    }\n",
       "\n",
       "    .dataframe tbody tr th {\n",
       "        vertical-align: top;\n",
       "    }\n",
       "\n",
       "    .dataframe thead tr th {\n",
       "        text-align: left;\n",
       "    }\n",
       "\n",
       "    .dataframe thead tr:last-of-type th {\n",
       "        text-align: right;\n",
       "    }\n",
       "</style>\n",
       "<table border=\"1\" class=\"dataframe\">\n",
       "  <thead>\n",
       "    <tr>\n",
       "      <th></th>\n",
       "      <th></th>\n",
       "      <th></th>\n",
       "      <th></th>\n",
       "      <th>flight_id</th>\n",
       "      <th>flight_minutes</th>\n",
       "      <th>total_seats</th>\n",
       "    </tr>\n",
       "    <tr>\n",
       "      <th></th>\n",
       "      <th></th>\n",
       "      <th></th>\n",
       "      <th></th>\n",
       "      <th>count</th>\n",
       "      <th>mean</th>\n",
       "      <th>mean</th>\n",
       "    </tr>\n",
       "    <tr>\n",
       "      <th>flight_no</th>\n",
       "      <th>model</th>\n",
       "      <th>arrival_city</th>\n",
       "      <th>departure_time</th>\n",
       "      <th></th>\n",
       "      <th></th>\n",
       "      <th></th>\n",
       "    </tr>\n",
       "  </thead>\n",
       "  <tbody>\n",
       "    <tr>\n",
       "      <th>PG0252</th>\n",
       "      <th>Boeing 737-300</th>\n",
       "      <th>Moscow</th>\n",
       "      <th>10:05:00</th>\n",
       "      <td>59</td>\n",
       "      <td>99.830508</td>\n",
       "      <td>130</td>\n",
       "    </tr>\n",
       "    <tr>\n",
       "      <th>PG0480</th>\n",
       "      <th>Sukhoi Superjet-100</th>\n",
       "      <th>Belgorod</th>\n",
       "      <th>09:25:00</th>\n",
       "      <td>59</td>\n",
       "      <td>50.084746</td>\n",
       "      <td>97</td>\n",
       "    </tr>\n",
       "  </tbody>\n",
       "</table>\n",
       "</div>"
      ],
      "text/plain": [
       "                                                          flight_id  \\\n",
       "                                                              count   \n",
       "flight_no model               arrival_city departure_time             \n",
       "PG0252    Boeing 737-300      Moscow       10:05:00              59   \n",
       "PG0480    Sukhoi Superjet-100 Belgorod     09:25:00              59   \n",
       "\n",
       "                                                          flight_minutes  \\\n",
       "                                                                    mean   \n",
       "flight_no model               arrival_city departure_time                  \n",
       "PG0252    Boeing 737-300      Moscow       10:05:00            99.830508   \n",
       "PG0480    Sukhoi Superjet-100 Belgorod     09:25:00            50.084746   \n",
       "\n",
       "                                                          total_seats  \n",
       "                                                                 mean  \n",
       "flight_no model               arrival_city departure_time              \n",
       "PG0252    Boeing 737-300      Moscow       10:05:00               130  \n",
       "PG0480    Sukhoi Superjet-100 Belgorod     09:25:00                97  "
      ]
     },
     "execution_count": 11,
     "metadata": {},
     "output_type": "execute_result"
    }
   ],
   "source": [
    "data.groupby(['flight_no', 'model', 'arrival_city', 'departure_time']).agg(\n",
    "{'flight_id': ['count'], 'flight_minutes': ['mean'], 'total_seats': ['mean']})"
   ]
  },
  {
   "cell_type": "markdown",
   "metadata": {},
   "source": [
    "Из Анапы в Москву летает только Boeing 737-300, а в Белгород - только Sukhoi Superjet-100. Время отправления из Анапы в Москву всегда 10:05:00, а в Белгород - всегда 09:25:00. Количество рейсов из Анапы в Москву и из Анапы в Белгород - по 59. Среднее время полета из Анапы в Москву 99.830508\tминут, из Анапы в Белгород 50.084746 минут."
   ]
  },
  {
   "cell_type": "code",
   "execution_count": 12,
   "metadata": {},
   "outputs": [
    {
     "data": {
      "text/html": [
       "<div>\n",
       "<style scoped>\n",
       "    .dataframe tbody tr th:only-of-type {\n",
       "        vertical-align: middle;\n",
       "    }\n",
       "\n",
       "    .dataframe tbody tr th {\n",
       "        vertical-align: top;\n",
       "    }\n",
       "\n",
       "    .dataframe thead th {\n",
       "        text-align: right;\n",
       "    }\n",
       "</style>\n",
       "<table border=\"1\" class=\"dataframe\">\n",
       "  <thead>\n",
       "    <tr style=\"text-align: right;\">\n",
       "      <th></th>\n",
       "      <th>flight_id</th>\n",
       "      <th>flight_no</th>\n",
       "      <th>departure_city</th>\n",
       "      <th>arrival_city</th>\n",
       "      <th>scheduled_departure</th>\n",
       "      <th>scheduled_arrival</th>\n",
       "      <th>seats_sold</th>\n",
       "      <th>economy_sold</th>\n",
       "      <th>business_sold</th>\n",
       "      <th>total_seats</th>\n",
       "      <th>economy_value</th>\n",
       "      <th>total_value</th>\n",
       "      <th>model</th>\n",
       "      <th>flight_minutes</th>\n",
       "      <th>departure_day</th>\n",
       "      <th>departure_time</th>\n",
       "      <th>departure_date</th>\n",
       "      <th>departure_month</th>\n",
       "    </tr>\n",
       "  </thead>\n",
       "  <tbody>\n",
       "    <tr>\n",
       "      <th>104</th>\n",
       "      <td>136869</td>\n",
       "      <td>PG0480</td>\n",
       "      <td>Anapa</td>\n",
       "      <td>Belgorod</td>\n",
       "      <td>2017-01-31 09:25:00</td>\n",
       "      <td>2017-01-31 10:15:00</td>\n",
       "      <td>97.0</td>\n",
       "      <td>85.0</td>\n",
       "      <td>12.0</td>\n",
       "      <td>97</td>\n",
       "      <td>538500.0</td>\n",
       "      <td>765300.0</td>\n",
       "      <td>Sukhoi Superjet-100</td>\n",
       "      <td>50.0</td>\n",
       "      <td>1</td>\n",
       "      <td>09:25:00</td>\n",
       "      <td>2017-01-31</td>\n",
       "      <td>1</td>\n",
       "    </tr>\n",
       "    <tr>\n",
       "      <th>102</th>\n",
       "      <td>136857</td>\n",
       "      <td>PG0480</td>\n",
       "      <td>Anapa</td>\n",
       "      <td>Belgorod</td>\n",
       "      <td>2017-02-13 09:25:00</td>\n",
       "      <td>2017-02-13 10:15:00</td>\n",
       "      <td>97.0</td>\n",
       "      <td>85.0</td>\n",
       "      <td>12.0</td>\n",
       "      <td>97</td>\n",
       "      <td>538500.0</td>\n",
       "      <td>765300.0</td>\n",
       "      <td>Sukhoi Superjet-100</td>\n",
       "      <td>50.0</td>\n",
       "      <td>0</td>\n",
       "      <td>09:25:00</td>\n",
       "      <td>2017-02-13</td>\n",
       "      <td>2</td>\n",
       "    </tr>\n",
       "  </tbody>\n",
       "</table>\n",
       "</div>"
      ],
      "text/plain": [
       "     flight_id flight_no departure_city arrival_city scheduled_departure  \\\n",
       "104     136869    PG0480          Anapa     Belgorod 2017-01-31 09:25:00   \n",
       "102     136857    PG0480          Anapa     Belgorod 2017-02-13 09:25:00   \n",
       "\n",
       "      scheduled_arrival  seats_sold  economy_sold  business_sold  total_seats  \\\n",
       "104 2017-01-31 10:15:00        97.0          85.0           12.0           97   \n",
       "102 2017-02-13 10:15:00        97.0          85.0           12.0           97   \n",
       "\n",
       "     economy_value  total_value                model  flight_minutes  \\\n",
       "104       538500.0     765300.0  Sukhoi Superjet-100            50.0   \n",
       "102       538500.0     765300.0  Sukhoi Superjet-100            50.0   \n",
       "\n",
       "     departure_day departure_time departure_date  departure_month  \n",
       "104              1       09:25:00     2017-01-31                1  \n",
       "102              0       09:25:00     2017-02-13                2  "
      ]
     },
     "execution_count": 12,
     "metadata": {},
     "output_type": "execute_result"
    }
   ],
   "source": [
    "data.sample(2)"
   ]
  },
  {
   "cell_type": "code",
   "execution_count": 13,
   "metadata": {},
   "outputs": [
    {
     "name": "stdout",
     "output_type": "stream",
     "text": [
      "<class 'pandas.core.frame.DataFrame'>\n",
      "Int64Index: 118 entries, 0 to 117\n",
      "Data columns (total 18 columns):\n",
      " #   Column               Non-Null Count  Dtype         \n",
      "---  ------               --------------  -----         \n",
      " 0   flight_id            118 non-null    int64         \n",
      " 1   flight_no            118 non-null    object        \n",
      " 2   departure_city       118 non-null    object        \n",
      " 3   arrival_city         118 non-null    object        \n",
      " 4   scheduled_departure  118 non-null    datetime64[ns]\n",
      " 5   scheduled_arrival    118 non-null    datetime64[ns]\n",
      " 6   seats_sold           118 non-null    float64       \n",
      " 7   economy_sold         118 non-null    float64       \n",
      " 8   business_sold        118 non-null    float64       \n",
      " 9   total_seats          118 non-null    int64         \n",
      " 10  economy_value        118 non-null    float64       \n",
      " 11  total_value          118 non-null    float64       \n",
      " 12  model                118 non-null    object        \n",
      " 13  flight_minutes       118 non-null    float64       \n",
      " 14  departure_day        118 non-null    int64         \n",
      " 15  departure_time       118 non-null    object        \n",
      " 16  departure_date       118 non-null    object        \n",
      " 17  departure_month      118 non-null    int64         \n",
      "dtypes: datetime64[ns](2), float64(6), int64(4), object(6)\n",
      "memory usage: 22.5+ KB\n"
     ]
    }
   ],
   "source": [
    "data.info()"
   ]
  },
  {
   "cell_type": "markdown",
   "metadata": {},
   "source": [
    "### Оценка прибыльности на основе дохода - расхода на топливо"
   ]
  },
  {
   "cell_type": "code",
   "execution_count": 14,
   "metadata": {},
   "outputs": [],
   "source": [
    "# Добавим расход топлива в т/ч для каждой модели\n",
    "fuel_cons = {'Boeing 737-300': 2.4,\n",
    "             'Sukhoi Superjet-100': 1.7}"
   ]
  },
  {
   "cell_type": "code",
   "execution_count": 15,
   "metadata": {},
   "outputs": [],
   "source": [
    "# Признак расхода топлива для каждого рейса, исходя из длительности полета\n",
    "data['used_fuel'] = data.apply(\n",
    "    lambda row: fuel_cons[row['model']] / 60 * row['flight_minutes'], axis=1)"
   ]
  },
  {
   "cell_type": "code",
   "execution_count": 16,
   "metadata": {},
   "outputs": [],
   "source": [
    "# Добавим цены на топливо для зимних месяцев 2017 с учетом НДС 18%\n",
    "fuel_prices = {1: 48893.30,\n",
    "               2: 46672.54,\n",
    "               12: 55579.18}"
   ]
  },
  {
   "cell_type": "code",
   "execution_count": 17,
   "metadata": {},
   "outputs": [],
   "source": [
    "# Теперь можем посчитать расходы на топливо по каждому рейсу\n",
    "data['fuel_cost'] = data.apply(lambda row: round(\n",
    "    fuel_prices[row['departure_month']] * row['used_fuel'], 2), axis=1)"
   ]
  },
  {
   "cell_type": "code",
   "execution_count": 18,
   "metadata": {},
   "outputs": [],
   "source": [
    "# Считаем прибыль, как разницу между выручкой по билетам и расходом на топливо\n",
    "data['revenue'] = data['total_value'] - data['fuel_cost']"
   ]
  },
  {
   "cell_type": "code",
   "execution_count": 19,
   "metadata": {},
   "outputs": [
    {
     "data": {
      "text/html": [
       "<div>\n",
       "<style scoped>\n",
       "    .dataframe tbody tr th:only-of-type {\n",
       "        vertical-align: middle;\n",
       "    }\n",
       "\n",
       "    .dataframe tbody tr th {\n",
       "        vertical-align: top;\n",
       "    }\n",
       "\n",
       "    .dataframe thead th {\n",
       "        text-align: right;\n",
       "    }\n",
       "</style>\n",
       "<table border=\"1\" class=\"dataframe\">\n",
       "  <thead>\n",
       "    <tr style=\"text-align: right;\">\n",
       "      <th></th>\n",
       "      <th>flight_id</th>\n",
       "      <th>flight_no</th>\n",
       "      <th>departure_city</th>\n",
       "      <th>arrival_city</th>\n",
       "      <th>scheduled_departure</th>\n",
       "      <th>scheduled_arrival</th>\n",
       "      <th>seats_sold</th>\n",
       "      <th>economy_sold</th>\n",
       "      <th>business_sold</th>\n",
       "      <th>total_seats</th>\n",
       "      <th>...</th>\n",
       "      <th>total_value</th>\n",
       "      <th>model</th>\n",
       "      <th>flight_minutes</th>\n",
       "      <th>departure_day</th>\n",
       "      <th>departure_time</th>\n",
       "      <th>departure_date</th>\n",
       "      <th>departure_month</th>\n",
       "      <th>used_fuel</th>\n",
       "      <th>fuel_cost</th>\n",
       "      <th>revenue</th>\n",
       "    </tr>\n",
       "  </thead>\n",
       "  <tbody>\n",
       "    <tr>\n",
       "      <th>6</th>\n",
       "      <td>136135</td>\n",
       "      <td>PG0252</td>\n",
       "      <td>Anapa</td>\n",
       "      <td>Moscow</td>\n",
       "      <td>2017-02-01 10:05:00</td>\n",
       "      <td>2017-02-01 11:45:00</td>\n",
       "      <td>115.0</td>\n",
       "      <td>104.0</td>\n",
       "      <td>11.0</td>\n",
       "      <td>130</td>\n",
       "      <td>...</td>\n",
       "      <td>1678600.0</td>\n",
       "      <td>Boeing 737-300</td>\n",
       "      <td>100.0</td>\n",
       "      <td>2</td>\n",
       "      <td>10:05:00</td>\n",
       "      <td>2017-02-01</td>\n",
       "      <td>2</td>\n",
       "      <td>4.000000</td>\n",
       "      <td>186690.16</td>\n",
       "      <td>1491909.84</td>\n",
       "    </tr>\n",
       "    <tr>\n",
       "      <th>111</th>\n",
       "      <td>136922</td>\n",
       "      <td>PG0480</td>\n",
       "      <td>Anapa</td>\n",
       "      <td>Belgorod</td>\n",
       "      <td>2017-02-11 09:25:00</td>\n",
       "      <td>2017-02-11 10:15:00</td>\n",
       "      <td>76.0</td>\n",
       "      <td>66.0</td>\n",
       "      <td>10.0</td>\n",
       "      <td>97</td>\n",
       "      <td>...</td>\n",
       "      <td>607800.0</td>\n",
       "      <td>Sukhoi Superjet-100</td>\n",
       "      <td>50.0</td>\n",
       "      <td>5</td>\n",
       "      <td>09:25:00</td>\n",
       "      <td>2017-02-11</td>\n",
       "      <td>2</td>\n",
       "      <td>1.416667</td>\n",
       "      <td>66119.43</td>\n",
       "      <td>541680.57</td>\n",
       "    </tr>\n",
       "  </tbody>\n",
       "</table>\n",
       "<p>2 rows × 21 columns</p>\n",
       "</div>"
      ],
      "text/plain": [
       "     flight_id flight_no departure_city arrival_city scheduled_departure  \\\n",
       "6       136135    PG0252          Anapa       Moscow 2017-02-01 10:05:00   \n",
       "111     136922    PG0480          Anapa     Belgorod 2017-02-11 09:25:00   \n",
       "\n",
       "      scheduled_arrival  seats_sold  economy_sold  business_sold  total_seats  \\\n",
       "6   2017-02-01 11:45:00       115.0         104.0           11.0          130   \n",
       "111 2017-02-11 10:15:00        76.0          66.0           10.0           97   \n",
       "\n",
       "     ...  total_value                model flight_minutes  departure_day  \\\n",
       "6    ...    1678600.0       Boeing 737-300          100.0              2   \n",
       "111  ...     607800.0  Sukhoi Superjet-100           50.0              5   \n",
       "\n",
       "     departure_time departure_date departure_month  used_fuel  fuel_cost  \\\n",
       "6          10:05:00     2017-02-01               2   4.000000  186690.16   \n",
       "111        09:25:00     2017-02-11               2   1.416667   66119.43   \n",
       "\n",
       "        revenue  \n",
       "6    1491909.84  \n",
       "111   541680.57  \n",
       "\n",
       "[2 rows x 21 columns]"
      ]
     },
     "execution_count": 19,
     "metadata": {},
     "output_type": "execute_result"
    }
   ],
   "source": [
    "data.sample(2)"
   ]
  },
  {
   "cell_type": "markdown",
   "metadata": {},
   "source": [
    "Посмотрим на распределения: рейсы из Анапы в Москву более дорогостоящие в плане расхода на топливо. Это не удивительно, т.к. расход топлива у Boeing 737-300 выше, чем у Sukhoi Superjet-100 и длительность полета из Анапы в Москву больше, чем из Анапы в Белгород."
   ]
  },
  {
   "cell_type": "code",
   "execution_count": 20,
   "metadata": {
    "scrolled": true
   },
   "outputs": [
    {
     "data": {
      "text/plain": [
       "<AxesSubplot:xlabel='fuel_cost', ylabel='Count'>"
      ]
     },
     "execution_count": 20,
     "metadata": {},
     "output_type": "execute_result"
    },
    {
     "data": {
      "image/png": "[encoded data removed]",
      "text/plain": [
       "<Figure size 432x288 with 1 Axes>"
      ]
     },
     "metadata": {
      "needs_background": "light"
     },
     "output_type": "display_data"
    }
   ],
   "source": [
    "sns.histplot(data=data, x=data['fuel_cost'], hue=data['arrival_city'])"
   ]
  },
  {
   "cell_type": "markdown",
   "metadata": {},
   "source": [
    "Также рейсы в Москву, в общем, имеют большую выручку (как результат более высокой цены за билет и/или большей заполненности самолета). На графике видны некоторые рейсы по каждому направлению, где выручка, ниже чем у остальных."
   ]
  },
  {
   "cell_type": "code",
   "execution_count": 21,
   "metadata": {},
   "outputs": [
    {
     "data": {
      "text/plain": [
       "<AxesSubplot:xlabel='total_value', ylabel='Count'>"
      ]
     },
     "execution_count": 21,
     "metadata": {},
     "output_type": "execute_result"
    },
    {
     "data": {
      "image/png": "[encoded data removed]",
      "text/plain": [
       "<Figure size 432x288 with 1 Axes>"
      ]
     },
     "metadata": {
      "needs_background": "light"
     },
     "output_type": "display_data"
    }
   ],
   "source": [
    "sns.histplot(data=data, x=data['total_value'], hue=data['arrival_city'])"
   ]
  },
  {
   "cell_type": "markdown",
   "metadata": {},
   "source": [
    "Исходя из вышеописанного, ожидаемо, что и средняя прибыльность направления Анапа-Москва выше, чем Анапа-Белгород."
   ]
  },
  {
   "cell_type": "code",
   "execution_count": 22,
   "metadata": {
    "scrolled": true
   },
   "outputs": [
    {
     "data": {
      "text/plain": [
       "<function matplotlib.pyplot.show(close=None, block=None)>"
      ]
     },
     "execution_count": 22,
     "metadata": {},
     "output_type": "execute_result"
    },
    {
     "data": {
      "image/png": "[encoded data removed]",
      "text/plain": [
       "<Figure size 432x288 with 1 Axes>"
      ]
     },
     "metadata": {
      "needs_background": "light"
     },
     "output_type": "display_data"
    }
   ],
   "source": [
    "table = data.groupby('arrival_city').revenue.mean().reset_index()\n",
    "gr = sns.barplot(x='arrival_city', y='revenue', data=table, palette='winter')\n",
    "\n",
    "\n",
    "for index, row in table.iterrows():\n",
    "    gr.text(row.name, row.revenue, round(\n",
    "        row.revenue), color='black', ha=\"center\")\n",
    "plt.show"
   ]
  },
  {
   "cell_type": "code",
   "execution_count": 23,
   "metadata": {},
   "outputs": [],
   "source": [
    "# Таблица со средними значениями прибыльности по каждому направлению\n",
    "means = data.groupby('arrival_city').revenue.mean()\n",
    "\n",
    "\n",
    "def prof_check(row):\n",
    "    # Функция для определения прибыльности ниже среднего по каждому рейсу\n",
    "    if row['revenue'] < means[row['arrival_city']]:\n",
    "        return 'below_average'\n",
    "    else:\n",
    "        return 'ok'\n",
    "\n",
    "\n",
    "# Создадим новый параметр на основе функции\n",
    "data['profit_type'] = data.apply(lambda x: prof_check(x), axis=1)"
   ]
  },
  {
   "cell_type": "code",
   "execution_count": 24,
   "metadata": {},
   "outputs": [],
   "source": [
    "# Параметр заполняемости рейса\n",
    "data['seat_coverage'] = data['seats_sold']/data['total_seats']"
   ]
  },
  {
   "cell_type": "markdown",
   "metadata": {},
   "source": [
    "Сравним заполненность рейсов с прибылью ниже среднего и с прибылью выше среднего для каждого из направлений.\n",
    "\n",
    "Очевидно, что в случае обоих направлений, рейсы с прибылью ниже среднего имеют более низкую заполненность по сравнению с теми, у которых прибыльность в норме."
   ]
  },
  {
   "cell_type": "code",
   "execution_count": 25,
   "metadata": {},
   "outputs": [
    {
     "data": {
      "text/plain": [
       "<matplotlib.legend.Legend at 0x163caa52820>"
      ]
     },
     "execution_count": 25,
     "metadata": {},
     "output_type": "execute_result"
    },
    {
     "data": {
      "image/png": "[encoded data removed]",
      "text/plain": [
       "<Figure size 432x288 with 1 Axes>"
      ]
     },
     "metadata": {
      "needs_background": "light"
     },
     "output_type": "display_data"
    }
   ],
   "source": [
    "sc = data.groupby(['arrival_city', 'profit_type']\n",
    "                  ).seat_coverage.mean().reset_index()\n",
    "g = sns.barplot(x='arrival_city', y='seat_coverage',\n",
    "                data=sc, hue='profit_type', palette='winter')\n",
    "plt.legend(loc='lower center')"
   ]
  },
  {
   "cell_type": "markdown",
   "metadata": {},
   "source": [
    "Проверим есть ли зависимость доходности от цены билета по рейсам в Белгород и Москву. Для этого посчитаем средние значения цены по классу Эконом (так как они составляют 90% мест).\n",
    "\n",
    "Видим, что цена здесь не является фактором:"
   ]
  },
  {
   "cell_type": "code",
   "execution_count": 26,
   "metadata": {},
   "outputs": [
    {
     "data": {
      "image/png": "[encoded data removed]",
      "text/plain": [
       "<Figure size 432x288 with 1 Axes>"
      ]
     },
     "metadata": {
      "needs_background": "light"
     },
     "output_type": "display_data"
    }
   ],
   "source": [
    "data['economy_price'] = data['economy_value'] / (data['economy_sold'])\n",
    "\n",
    "prices_e = data.groupby(['arrival_city', 'profit_type'])[\n",
    "    'economy_price'].mean().reset_index()\n",
    "g = sns.barplot(x='arrival_city', y='economy_price',\n",
    "                data=prices_e, hue='profit_type', palette='winter')"
   ]
  },
  {
   "cell_type": "markdown",
   "metadata": {},
   "source": [
    "Посмотрим на зависимость заполняемости от дня недели: для рейсов Анапа-Москва заметный спад в воскресенье, в то время как самая высокая заполняемость рейсов Анапа-Белгород наблюдается в среду."
   ]
  },
  {
   "cell_type": "code",
   "execution_count": 27,
   "metadata": {},
   "outputs": [
    {
     "data": {
      "text/plain": [
       "<matplotlib.legend.Legend at 0x163cab3bf10>"
      ]
     },
     "execution_count": 27,
     "metadata": {},
     "output_type": "execute_result"
    },
    {
     "data": {
      "image/png": "[encoded data removed]",
      "text/plain": [
       "<Figure size 432x288 with 1 Axes>"
      ]
     },
     "metadata": {
      "needs_background": "light"
     },
     "output_type": "display_data"
    }
   ],
   "source": [
    "day_seats = data.groupby(['arrival_city', 'departure_day']\n",
    "                         ).seat_coverage.mean().reset_index()\n",
    "sns.barplot(x='departure_day', y='seat_coverage',\n",
    "            data=day_seats, hue='arrival_city', palette='winter')\n",
    "plt.legend(loc='lower center')"
   ]
  },
  {
   "cell_type": "markdown",
   "metadata": {},
   "source": [
    "Посмотрим на заполненность рейсов с прибыльностью ниже среднего по дате.\n",
    "\n",
    "Для рейса Анапа-Белгород сильно выбиваются низкие значения заполненности (<70%) в дни 2017-01-30 и 2017-02-23. Примечательно то, что во время новогодних праздников, заполненность рейсов не значительно ниже."
   ]
  },
  {
   "cell_type": "code",
   "execution_count": 28,
   "metadata": {},
   "outputs": [
    {
     "data": {
      "image/png": "[encoded data removed]",
      "text/plain": [
       "<Figure size 720x720 with 1 Axes>"
      ]
     },
     "metadata": {
      "needs_background": "light"
     },
     "output_type": "display_data"
    }
   ],
   "source": [
    "dates_t = data[data['profit_type'] == 'below_average'][['arrival_city',\n",
    "    'departure_date', 'seat_coverage']].sort_values(by=['arrival_city',\n",
    "    'departure_date'])\n",
    "fig_dims = (10, 10)\n",
    "fig, ax = plt.subplots(figsize=fig_dims)\n",
    "g = sns.barplot(x='departure_date', y='seat_coverage', ax=ax,\n",
    "        data=dates_t[dates_t['arrival_city'] == 'Belgorod'], palette='winter')\n",
    "g.set_xticklabels(g.get_xticklabels(), rotation=90)\n",
    "g.set_title('Anapa-Belgorod: seat coverage')\n",
    "plt.show()"
   ]
  },
  {
   "cell_type": "markdown",
   "metadata": {},
   "source": [
    "В отличие от рейса Анапа-Белгород, данные по Анапа-Москва более равномерны без очевидных выбросов."
   ]
  },
  {
   "cell_type": "code",
   "execution_count": 29,
   "metadata": {},
   "outputs": [
    {
     "data": {
      "image/png": "[encoded data removed]",
      "text/plain": [
       "<Figure size 720x720 with 1 Axes>"
      ]
     },
     "metadata": {
      "needs_background": "light"
     },
     "output_type": "display_data"
    }
   ],
   "source": [
    "fig_dims = (10, 10)\n",
    "fig, ax = plt.subplots(figsize=fig_dims)\n",
    "g1 = sns.barplot(x='departure_date', y='seat_coverage', ax=ax,\n",
    "          data=dates_t[dates_t['arrival_city'] == 'Moscow'], palette='winter')\n",
    "g1.set_xticklabels(g1.get_xticklabels(), rotation=90)\n",
    "g1.set_title('Anapa-Moscow: seat coverage')\n",
    "plt.show()"
   ]
  },
  {
   "cell_type": "markdown",
   "metadata": {},
   "source": [
    "Воспользуемся формулой межквартильного расстояния для определения выбросов исходя из прибыльности рейсов по двум направлениям. Диапазон нижнего квартиля увеличим до 0.30, иначе не будет результатов."
   ]
  },
  {
   "cell_type": "code",
   "execution_count": 36,
   "metadata": {},
   "outputs": [
    {
     "data": {
      "text/html": [
       "<div>\n",
       "<style scoped>\n",
       "    .dataframe tbody tr th:only-of-type {\n",
       "        vertical-align: middle;\n",
       "    }\n",
       "\n",
       "    .dataframe tbody tr th {\n",
       "        vertical-align: top;\n",
       "    }\n",
       "\n",
       "    .dataframe thead th {\n",
       "        text-align: right;\n",
       "    }\n",
       "</style>\n",
       "<table border=\"1\" class=\"dataframe\">\n",
       "  <thead>\n",
       "    <tr style=\"text-align: right;\">\n",
       "      <th></th>\n",
       "      <th>flight_id</th>\n",
       "      <th>flight_no</th>\n",
       "      <th>departure_city</th>\n",
       "      <th>arrival_city</th>\n",
       "      <th>scheduled_departure</th>\n",
       "      <th>scheduled_arrival</th>\n",
       "      <th>seats_sold</th>\n",
       "      <th>economy_sold</th>\n",
       "      <th>business_sold</th>\n",
       "      <th>total_seats</th>\n",
       "      <th>...</th>\n",
       "      <th>departure_day</th>\n",
       "      <th>departure_time</th>\n",
       "      <th>departure_date</th>\n",
       "      <th>departure_month</th>\n",
       "      <th>used_fuel</th>\n",
       "      <th>fuel_cost</th>\n",
       "      <th>revenue</th>\n",
       "      <th>profit_type</th>\n",
       "      <th>seat_coverage</th>\n",
       "      <th>economy_price</th>\n",
       "    </tr>\n",
       "  </thead>\n",
       "  <tbody>\n",
       "    <tr>\n",
       "      <th>68</th>\n",
       "      <td>136642</td>\n",
       "      <td>PG0480</td>\n",
       "      <td>Anapa</td>\n",
       "      <td>Belgorod</td>\n",
       "      <td>2017-01-30 09:25:00</td>\n",
       "      <td>2017-01-30 10:15:00</td>\n",
       "      <td>64.0</td>\n",
       "      <td>54.0</td>\n",
       "      <td>10.0</td>\n",
       "      <td>97</td>\n",
       "      <td>...</td>\n",
       "      <td>0</td>\n",
       "      <td>09:25:00</td>\n",
       "      <td>2017-01-30</td>\n",
       "      <td>1</td>\n",
       "      <td>1.388333</td>\n",
       "      <td>67880.20</td>\n",
       "      <td>463119.80</td>\n",
       "      <td>below_average</td>\n",
       "      <td>0.659794</td>\n",
       "      <td>6333.333333</td>\n",
       "    </tr>\n",
       "    <tr>\n",
       "      <th>93</th>\n",
       "      <td>136807</td>\n",
       "      <td>PG0480</td>\n",
       "      <td>Anapa</td>\n",
       "      <td>Belgorod</td>\n",
       "      <td>2017-02-23 09:25:00</td>\n",
       "      <td>2017-02-23 10:15:00</td>\n",
       "      <td>68.0</td>\n",
       "      <td>60.0</td>\n",
       "      <td>8.0</td>\n",
       "      <td>97</td>\n",
       "      <td>...</td>\n",
       "      <td>3</td>\n",
       "      <td>09:25:00</td>\n",
       "      <td>2017-02-23</td>\n",
       "      <td>2</td>\n",
       "      <td>1.416667</td>\n",
       "      <td>66119.43</td>\n",
       "      <td>464880.57</td>\n",
       "      <td>below_average</td>\n",
       "      <td>0.701031</td>\n",
       "      <td>6330.000000</td>\n",
       "    </tr>\n",
       "    <tr>\n",
       "      <th>100</th>\n",
       "      <td>136844</td>\n",
       "      <td>PG0480</td>\n",
       "      <td>Anapa</td>\n",
       "      <td>Belgorod</td>\n",
       "      <td>2017-02-28 09:25:00</td>\n",
       "      <td>2017-02-28 10:15:00</td>\n",
       "      <td>79.0</td>\n",
       "      <td>73.0</td>\n",
       "      <td>6.0</td>\n",
       "      <td>97</td>\n",
       "      <td>...</td>\n",
       "      <td>1</td>\n",
       "      <td>09:25:00</td>\n",
       "      <td>2017-02-28</td>\n",
       "      <td>2</td>\n",
       "      <td>1.416667</td>\n",
       "      <td>66119.43</td>\n",
       "      <td>508980.57</td>\n",
       "      <td>below_average</td>\n",
       "      <td>0.814433</td>\n",
       "      <td>6324.657534</td>\n",
       "    </tr>\n",
       "  </tbody>\n",
       "</table>\n",
       "<p>3 rows × 24 columns</p>\n",
       "</div>"
      ],
      "text/plain": [
       "     flight_id flight_no departure_city arrival_city scheduled_departure  \\\n",
       "68      136642    PG0480          Anapa     Belgorod 2017-01-30 09:25:00   \n",
       "93      136807    PG0480          Anapa     Belgorod 2017-02-23 09:25:00   \n",
       "100     136844    PG0480          Anapa     Belgorod 2017-02-28 09:25:00   \n",
       "\n",
       "      scheduled_arrival  seats_sold  economy_sold  business_sold  total_seats  \\\n",
       "68  2017-01-30 10:15:00        64.0          54.0           10.0           97   \n",
       "93  2017-02-23 10:15:00        68.0          60.0            8.0           97   \n",
       "100 2017-02-28 10:15:00        79.0          73.0            6.0           97   \n",
       "\n",
       "     ...  departure_day  departure_time departure_date  departure_month  \\\n",
       "68   ...              0        09:25:00     2017-01-30                1   \n",
       "93   ...              3        09:25:00     2017-02-23                2   \n",
       "100  ...              1        09:25:00     2017-02-28                2   \n",
       "\n",
       "     used_fuel fuel_cost    revenue    profit_type  seat_coverage  \\\n",
       "68    1.388333  67880.20  463119.80  below_average       0.659794   \n",
       "93    1.416667  66119.43  464880.57  below_average       0.701031   \n",
       "100   1.416667  66119.43  508980.57  below_average       0.814433   \n",
       "\n",
       "     economy_price  \n",
       "68     6333.333333  \n",
       "93     6330.000000  \n",
       "100    6324.657534  \n",
       "\n",
       "[3 rows x 24 columns]"
      ]
     },
     "execution_count": 36,
     "metadata": {},
     "output_type": "execute_result"
    }
   ],
   "source": [
    "def low_limit(dataset, city, column):\n",
    "    q = np.quantile(dataset[dataset['arrival_city']\n",
    "                            == city][column], [0.30, 0.75])\n",
    "    IQR = q[1] - q[0]\n",
    "    return q[0] - 1.5*IQR\n",
    "\n",
    "\n",
    "# Рейсы на Белгород, прибыльность которых ниже определенного по формуле\n",
    "data[(data['arrival_city'] == 'Belgorod') & (\n",
    "    data['revenue'] < low_limit(data, 'Belgorod', 'revenue'))]"
   ]
  },
  {
   "cell_type": "code",
   "execution_count": 31,
   "metadata": {},
   "outputs": [
    {
     "data": {
      "text/html": [
       "<div>\n",
       "<style scoped>\n",
       "    .dataframe tbody tr th:only-of-type {\n",
       "        vertical-align: middle;\n",
       "    }\n",
       "\n",
       "    .dataframe tbody tr th {\n",
       "        vertical-align: top;\n",
       "    }\n",
       "\n",
       "    .dataframe thead th {\n",
       "        text-align: right;\n",
       "    }\n",
       "</style>\n",
       "<table border=\"1\" class=\"dataframe\">\n",
       "  <thead>\n",
       "    <tr style=\"text-align: right;\">\n",
       "      <th></th>\n",
       "      <th>flight_id</th>\n",
       "      <th>flight_no</th>\n",
       "      <th>departure_city</th>\n",
       "      <th>arrival_city</th>\n",
       "      <th>scheduled_departure</th>\n",
       "      <th>scheduled_arrival</th>\n",
       "      <th>seats_sold</th>\n",
       "      <th>economy_sold</th>\n",
       "      <th>business_sold</th>\n",
       "      <th>total_seats</th>\n",
       "      <th>...</th>\n",
       "      <th>departure_day</th>\n",
       "      <th>departure_time</th>\n",
       "      <th>departure_date</th>\n",
       "      <th>departure_month</th>\n",
       "      <th>used_fuel</th>\n",
       "      <th>fuel_cost</th>\n",
       "      <th>revenue</th>\n",
       "      <th>profit_type</th>\n",
       "      <th>seat_coverage</th>\n",
       "      <th>economy_price</th>\n",
       "    </tr>\n",
       "  </thead>\n",
       "  <tbody>\n",
       "  </tbody>\n",
       "</table>\n",
       "<p>0 rows × 24 columns</p>\n",
       "</div>"
      ],
      "text/plain": [
       "Empty DataFrame\n",
       "Columns: [flight_id, flight_no, departure_city, arrival_city, scheduled_departure, scheduled_arrival, seats_sold, economy_sold, business_sold, total_seats, economy_value, total_value, model, flight_minutes, departure_day, departure_time, departure_date, departure_month, used_fuel, fuel_cost, revenue, profit_type, seat_coverage, economy_price]\n",
       "Index: []\n",
       "\n",
       "[0 rows x 24 columns]"
      ]
     },
     "execution_count": 31,
     "metadata": {},
     "output_type": "execute_result"
    }
   ],
   "source": [
    "# Выбросов с точки зрения прибыльности среди рейсов на Москву нет\n",
    "data[(data['arrival_city'] == 'Moscow') & (\n",
    "    data['revenue'] < low_limit(data, 'Moscow', 'revenue'))]"
   ]
  },
  {
   "cell_type": "markdown",
   "metadata": {},
   "source": [
    "Посмотрим на завимость заполненности самолета от прибыли. Видим, что и по направлению Анапа-Белгород, и по направлению Анапа-Москва есть рейсы с заполненностью менее 75%."
   ]
  },
  {
   "cell_type": "code",
   "execution_count": 77,
   "metadata": {},
   "outputs": [
    {
     "data": {
      "text/plain": [
       "<matplotlib.legend.Legend at 0x163cca2e9a0>"
      ]
     },
     "execution_count": 77,
     "metadata": {},
     "output_type": "execute_result"
    },
    {
     "data": {
      "image/png": "[encoded data removed]",
      "text/plain": [
       "<Figure size 432x288 with 1 Axes>"
      ]
     },
     "metadata": {
      "needs_background": "light"
     },
     "output_type": "display_data"
    }
   ],
   "source": [
    "fig = plt.figure()\n",
    "axes = fig.add_axes([0, 0, 1, 1])\n",
    "axes.scatter(x=data[data['arrival_city'] == 'Belgorod'].revenue, y=data[data['arrival_city']\n",
    "                     == 'Belgorod'].seat_coverage, marker='o', label='Рейсы Анапа-Белгород')\n",
    "axes.scatter(x=data[data['arrival_city'] == 'Moscow'].revenue, y=data[data['arrival_city']\n",
    "                       == 'Moscow'].seat_coverage, marker='o', label='Рейсы Анапа-Москва')\n",
    "axes.set_title('Зависимость прибыли от заполненности самолета')\n",
    "axes.set_xlabel('Прибыль млн. руб')\n",
    "axes.set_ylabel('Заполненность')\n",
    "axes.legend(loc=4)"
   ]
  },
  {
   "cell_type": "markdown",
   "metadata": {},
   "source": [
    "Проверим на какие рейсы в Белгород и Москву билетов продано менее 75%."
   ]
  },
  {
   "cell_type": "code",
   "execution_count": 32,
   "metadata": {},
   "outputs": [
    {
     "data": {
      "text/html": [
       "<div>\n",
       "<style scoped>\n",
       "    .dataframe tbody tr th:only-of-type {\n",
       "        vertical-align: middle;\n",
       "    }\n",
       "\n",
       "    .dataframe tbody tr th {\n",
       "        vertical-align: top;\n",
       "    }\n",
       "\n",
       "    .dataframe thead th {\n",
       "        text-align: right;\n",
       "    }\n",
       "</style>\n",
       "<table border=\"1\" class=\"dataframe\">\n",
       "  <thead>\n",
       "    <tr style=\"text-align: right;\">\n",
       "      <th></th>\n",
       "      <th>flight_id</th>\n",
       "      <th>flight_no</th>\n",
       "      <th>departure_city</th>\n",
       "      <th>arrival_city</th>\n",
       "      <th>scheduled_departure</th>\n",
       "      <th>scheduled_arrival</th>\n",
       "      <th>seats_sold</th>\n",
       "      <th>economy_sold</th>\n",
       "      <th>business_sold</th>\n",
       "      <th>total_seats</th>\n",
       "      <th>...</th>\n",
       "      <th>departure_day</th>\n",
       "      <th>departure_time</th>\n",
       "      <th>departure_date</th>\n",
       "      <th>departure_month</th>\n",
       "      <th>used_fuel</th>\n",
       "      <th>fuel_cost</th>\n",
       "      <th>revenue</th>\n",
       "      <th>profit_type</th>\n",
       "      <th>seat_coverage</th>\n",
       "      <th>economy_price</th>\n",
       "    </tr>\n",
       "  </thead>\n",
       "  <tbody>\n",
       "    <tr>\n",
       "      <th>68</th>\n",
       "      <td>136642</td>\n",
       "      <td>PG0480</td>\n",
       "      <td>Anapa</td>\n",
       "      <td>Belgorod</td>\n",
       "      <td>2017-01-30 09:25:00</td>\n",
       "      <td>2017-01-30 10:15:00</td>\n",
       "      <td>64.0</td>\n",
       "      <td>54.0</td>\n",
       "      <td>10.0</td>\n",
       "      <td>97</td>\n",
       "      <td>...</td>\n",
       "      <td>0</td>\n",
       "      <td>09:25:00</td>\n",
       "      <td>2017-01-30</td>\n",
       "      <td>1</td>\n",
       "      <td>1.388333</td>\n",
       "      <td>67880.20</td>\n",
       "      <td>463119.80</td>\n",
       "      <td>below_average</td>\n",
       "      <td>0.659794</td>\n",
       "      <td>6333.333333</td>\n",
       "    </tr>\n",
       "    <tr>\n",
       "      <th>93</th>\n",
       "      <td>136807</td>\n",
       "      <td>PG0480</td>\n",
       "      <td>Anapa</td>\n",
       "      <td>Belgorod</td>\n",
       "      <td>2017-02-23 09:25:00</td>\n",
       "      <td>2017-02-23 10:15:00</td>\n",
       "      <td>68.0</td>\n",
       "      <td>60.0</td>\n",
       "      <td>8.0</td>\n",
       "      <td>97</td>\n",
       "      <td>...</td>\n",
       "      <td>3</td>\n",
       "      <td>09:25:00</td>\n",
       "      <td>2017-02-23</td>\n",
       "      <td>2</td>\n",
       "      <td>1.416667</td>\n",
       "      <td>66119.43</td>\n",
       "      <td>464880.57</td>\n",
       "      <td>below_average</td>\n",
       "      <td>0.701031</td>\n",
       "      <td>6330.000000</td>\n",
       "    </tr>\n",
       "  </tbody>\n",
       "</table>\n",
       "<p>2 rows × 24 columns</p>\n",
       "</div>"
      ],
      "text/plain": [
       "    flight_id flight_no departure_city arrival_city scheduled_departure  \\\n",
       "68     136642    PG0480          Anapa     Belgorod 2017-01-30 09:25:00   \n",
       "93     136807    PG0480          Anapa     Belgorod 2017-02-23 09:25:00   \n",
       "\n",
       "     scheduled_arrival  seats_sold  economy_sold  business_sold  total_seats  \\\n",
       "68 2017-01-30 10:15:00        64.0          54.0           10.0           97   \n",
       "93 2017-02-23 10:15:00        68.0          60.0            8.0           97   \n",
       "\n",
       "    ...  departure_day  departure_time departure_date  departure_month  \\\n",
       "68  ...              0        09:25:00     2017-01-30                1   \n",
       "93  ...              3        09:25:00     2017-02-23                2   \n",
       "\n",
       "    used_fuel fuel_cost    revenue    profit_type  seat_coverage  \\\n",
       "68   1.388333  67880.20  463119.80  below_average       0.659794   \n",
       "93   1.416667  66119.43  464880.57  below_average       0.701031   \n",
       "\n",
       "    economy_price  \n",
       "68    6333.333333  \n",
       "93    6330.000000  \n",
       "\n",
       "[2 rows x 24 columns]"
      ]
     },
     "execution_count": 32,
     "metadata": {},
     "output_type": "execute_result"
    }
   ],
   "source": [
    "data[(data['arrival_city'] == 'Belgorod') & (data['seat_coverage'] < 0.75)]"
   ]
  },
  {
   "cell_type": "code",
   "execution_count": 33,
   "metadata": {
    "scrolled": false
   },
   "outputs": [
    {
     "data": {
      "text/html": [
       "<div>\n",
       "<style scoped>\n",
       "    .dataframe tbody tr th:only-of-type {\n",
       "        vertical-align: middle;\n",
       "    }\n",
       "\n",
       "    .dataframe tbody tr th {\n",
       "        vertical-align: top;\n",
       "    }\n",
       "\n",
       "    .dataframe thead th {\n",
       "        text-align: right;\n",
       "    }\n",
       "</style>\n",
       "<table border=\"1\" class=\"dataframe\">\n",
       "  <thead>\n",
       "    <tr style=\"text-align: right;\">\n",
       "      <th></th>\n",
       "      <th>flight_id</th>\n",
       "      <th>flight_no</th>\n",
       "      <th>departure_city</th>\n",
       "      <th>arrival_city</th>\n",
       "      <th>scheduled_departure</th>\n",
       "      <th>scheduled_arrival</th>\n",
       "      <th>seats_sold</th>\n",
       "      <th>economy_sold</th>\n",
       "      <th>business_sold</th>\n",
       "      <th>total_seats</th>\n",
       "      <th>...</th>\n",
       "      <th>departure_day</th>\n",
       "      <th>departure_time</th>\n",
       "      <th>departure_date</th>\n",
       "      <th>departure_month</th>\n",
       "      <th>used_fuel</th>\n",
       "      <th>fuel_cost</th>\n",
       "      <th>revenue</th>\n",
       "      <th>profit_type</th>\n",
       "      <th>seat_coverage</th>\n",
       "      <th>economy_price</th>\n",
       "    </tr>\n",
       "  </thead>\n",
       "  <tbody>\n",
       "    <tr>\n",
       "      <th>2</th>\n",
       "      <td>136122</td>\n",
       "      <td>PG0252</td>\n",
       "      <td>Anapa</td>\n",
       "      <td>Moscow</td>\n",
       "      <td>2017-01-08 10:05:00</td>\n",
       "      <td>2017-01-08 11:45:00</td>\n",
       "      <td>97.0</td>\n",
       "      <td>87.0</td>\n",
       "      <td>10.0</td>\n",
       "      <td>130</td>\n",
       "      <td>...</td>\n",
       "      <td>6</td>\n",
       "      <td>10:05:00</td>\n",
       "      <td>2017-01-08</td>\n",
       "      <td>1</td>\n",
       "      <td>4.0</td>\n",
       "      <td>195573.20</td>\n",
       "      <td>1235426.80</td>\n",
       "      <td>below_average</td>\n",
       "      <td>0.746154</td>\n",
       "      <td>12241.379310</td>\n",
       "    </tr>\n",
       "    <tr>\n",
       "      <th>38</th>\n",
       "      <td>136360</td>\n",
       "      <td>PG0252</td>\n",
       "      <td>Anapa</td>\n",
       "      <td>Moscow</td>\n",
       "      <td>2017-02-05 10:05:00</td>\n",
       "      <td>2017-02-05 11:45:00</td>\n",
       "      <td>97.0</td>\n",
       "      <td>86.0</td>\n",
       "      <td>11.0</td>\n",
       "      <td>130</td>\n",
       "      <td>...</td>\n",
       "      <td>6</td>\n",
       "      <td>10:05:00</td>\n",
       "      <td>2017-02-05</td>\n",
       "      <td>2</td>\n",
       "      <td>4.0</td>\n",
       "      <td>186690.16</td>\n",
       "      <td>1268709.84</td>\n",
       "      <td>below_average</td>\n",
       "      <td>0.746154</td>\n",
       "      <td>12241.860465</td>\n",
       "    </tr>\n",
       "  </tbody>\n",
       "</table>\n",
       "<p>2 rows × 24 columns</p>\n",
       "</div>"
      ],
      "text/plain": [
       "    flight_id flight_no departure_city arrival_city scheduled_departure  \\\n",
       "2      136122    PG0252          Anapa       Moscow 2017-01-08 10:05:00   \n",
       "38     136360    PG0252          Anapa       Moscow 2017-02-05 10:05:00   \n",
       "\n",
       "     scheduled_arrival  seats_sold  economy_sold  business_sold  total_seats  \\\n",
       "2  2017-01-08 11:45:00        97.0          87.0           10.0          130   \n",
       "38 2017-02-05 11:45:00        97.0          86.0           11.0          130   \n",
       "\n",
       "    ...  departure_day  departure_time departure_date  departure_month  \\\n",
       "2   ...              6        10:05:00     2017-01-08                1   \n",
       "38  ...              6        10:05:00     2017-02-05                2   \n",
       "\n",
       "    used_fuel  fuel_cost     revenue    profit_type  seat_coverage  \\\n",
       "2         4.0  195573.20  1235426.80  below_average       0.746154   \n",
       "38        4.0  186690.16  1268709.84  below_average       0.746154   \n",
       "\n",
       "    economy_price  \n",
       "2    12241.379310  \n",
       "38   12241.860465  \n",
       "\n",
       "[2 rows x 24 columns]"
      ]
     },
     "execution_count": 33,
     "metadata": {},
     "output_type": "execute_result"
    }
   ],
   "source": [
    "data[(data['arrival_city'] == 'Moscow') & (data['seat_coverage'] < 0.75)]"
   ]
  },
  {
   "cell_type": "markdown",
   "metadata": {},
   "source": [
    "Расходы на топливо по всем направлениям не превышают 20% от прибыли. Убыточные рейсы по этому критерию определить не получается."
   ]
  },
  {
   "cell_type": "code",
   "execution_count": 43,
   "metadata": {
    "scrolled": false
   },
   "outputs": [
    {
     "data": {
      "text/html": [
       "<div>\n",
       "<style scoped>\n",
       "    .dataframe tbody tr th:only-of-type {\n",
       "        vertical-align: middle;\n",
       "    }\n",
       "\n",
       "    .dataframe tbody tr th {\n",
       "        vertical-align: top;\n",
       "    }\n",
       "\n",
       "    .dataframe thead th {\n",
       "        text-align: right;\n",
       "    }\n",
       "</style>\n",
       "<table border=\"1\" class=\"dataframe\">\n",
       "  <thead>\n",
       "    <tr style=\"text-align: right;\">\n",
       "      <th></th>\n",
       "      <th>flight_id</th>\n",
       "      <th>flight_no</th>\n",
       "      <th>departure_city</th>\n",
       "      <th>arrival_city</th>\n",
       "      <th>scheduled_departure</th>\n",
       "      <th>scheduled_arrival</th>\n",
       "      <th>seats_sold</th>\n",
       "      <th>economy_sold</th>\n",
       "      <th>business_sold</th>\n",
       "      <th>total_seats</th>\n",
       "      <th>...</th>\n",
       "      <th>departure_day</th>\n",
       "      <th>departure_time</th>\n",
       "      <th>departure_date</th>\n",
       "      <th>departure_month</th>\n",
       "      <th>used_fuel</th>\n",
       "      <th>fuel_cost</th>\n",
       "      <th>revenue</th>\n",
       "      <th>profit_type</th>\n",
       "      <th>seat_coverage</th>\n",
       "      <th>economy_price</th>\n",
       "    </tr>\n",
       "  </thead>\n",
       "  <tbody>\n",
       "  </tbody>\n",
       "</table>\n",
       "<p>0 rows × 24 columns</p>\n",
       "</div>"
      ],
      "text/plain": [
       "Empty DataFrame\n",
       "Columns: [flight_id, flight_no, departure_city, arrival_city, scheduled_departure, scheduled_arrival, seats_sold, economy_sold, business_sold, total_seats, economy_value, total_value, model, flight_minutes, departure_day, departure_time, departure_date, departure_month, used_fuel, fuel_cost, revenue, profit_type, seat_coverage, economy_price]\n",
       "Index: []\n",
       "\n",
       "[0 rows x 24 columns]"
      ]
     },
     "execution_count": 43,
     "metadata": {},
     "output_type": "execute_result"
    }
   ],
   "source": [
    "data[(data['arrival_city'] == 'Belgorod') & (data['fuel_cost'] > 0.2 * data['revenue'])]"
   ]
  },
  {
   "cell_type": "code",
   "execution_count": 44,
   "metadata": {
    "scrolled": true
   },
   "outputs": [
    {
     "data": {
      "text/html": [
       "<div>\n",
       "<style scoped>\n",
       "    .dataframe tbody tr th:only-of-type {\n",
       "        vertical-align: middle;\n",
       "    }\n",
       "\n",
       "    .dataframe tbody tr th {\n",
       "        vertical-align: top;\n",
       "    }\n",
       "\n",
       "    .dataframe thead th {\n",
       "        text-align: right;\n",
       "    }\n",
       "</style>\n",
       "<table border=\"1\" class=\"dataframe\">\n",
       "  <thead>\n",
       "    <tr style=\"text-align: right;\">\n",
       "      <th></th>\n",
       "      <th>flight_id</th>\n",
       "      <th>flight_no</th>\n",
       "      <th>departure_city</th>\n",
       "      <th>arrival_city</th>\n",
       "      <th>scheduled_departure</th>\n",
       "      <th>scheduled_arrival</th>\n",
       "      <th>seats_sold</th>\n",
       "      <th>economy_sold</th>\n",
       "      <th>business_sold</th>\n",
       "      <th>total_seats</th>\n",
       "      <th>...</th>\n",
       "      <th>departure_day</th>\n",
       "      <th>departure_time</th>\n",
       "      <th>departure_date</th>\n",
       "      <th>departure_month</th>\n",
       "      <th>used_fuel</th>\n",
       "      <th>fuel_cost</th>\n",
       "      <th>revenue</th>\n",
       "      <th>profit_type</th>\n",
       "      <th>seat_coverage</th>\n",
       "      <th>economy_price</th>\n",
       "    </tr>\n",
       "  </thead>\n",
       "  <tbody>\n",
       "  </tbody>\n",
       "</table>\n",
       "<p>0 rows × 24 columns</p>\n",
       "</div>"
      ],
      "text/plain": [
       "Empty DataFrame\n",
       "Columns: [flight_id, flight_no, departure_city, arrival_city, scheduled_departure, scheduled_arrival, seats_sold, economy_sold, business_sold, total_seats, economy_value, total_value, model, flight_minutes, departure_day, departure_time, departure_date, departure_month, used_fuel, fuel_cost, revenue, profit_type, seat_coverage, economy_price]\n",
       "Index: []\n",
       "\n",
       "[0 rows x 24 columns]"
      ]
     },
     "execution_count": 44,
     "metadata": {},
     "output_type": "execute_result"
    }
   ],
   "source": [
    "data[(data['arrival_city'] == 'Moscow') & (data['fuel_cost'] > 0.2 * data['revenue'])]"
   ]
  },
  {
   "cell_type": "markdown",
   "metadata": {},
   "source": [
    "Следующие 4 перелета (2 в Белгород, 2 в Москву) были определены как самые низкоприбыльные и могут быть отменены в будущем:"
   ]
  },
  {
   "cell_type": "code",
   "execution_count": 34,
   "metadata": {},
   "outputs": [
    {
     "data": {
      "text/html": [
       "<div>\n",
       "<style scoped>\n",
       "    .dataframe tbody tr th:only-of-type {\n",
       "        vertical-align: middle;\n",
       "    }\n",
       "\n",
       "    .dataframe tbody tr th {\n",
       "        vertical-align: top;\n",
       "    }\n",
       "\n",
       "    .dataframe thead th {\n",
       "        text-align: right;\n",
       "    }\n",
       "</style>\n",
       "<table border=\"1\" class=\"dataframe\">\n",
       "  <thead>\n",
       "    <tr style=\"text-align: right;\">\n",
       "      <th></th>\n",
       "      <th>flight_id</th>\n",
       "      <th>flight_no</th>\n",
       "      <th>departure_city</th>\n",
       "      <th>arrival_city</th>\n",
       "      <th>scheduled_departure</th>\n",
       "      <th>scheduled_arrival</th>\n",
       "      <th>seats_sold</th>\n",
       "      <th>economy_sold</th>\n",
       "      <th>business_sold</th>\n",
       "      <th>total_seats</th>\n",
       "      <th>...</th>\n",
       "      <th>departure_day</th>\n",
       "      <th>departure_time</th>\n",
       "      <th>departure_date</th>\n",
       "      <th>departure_month</th>\n",
       "      <th>used_fuel</th>\n",
       "      <th>fuel_cost</th>\n",
       "      <th>revenue</th>\n",
       "      <th>profit_type</th>\n",
       "      <th>seat_coverage</th>\n",
       "      <th>economy_price</th>\n",
       "    </tr>\n",
       "  </thead>\n",
       "  <tbody>\n",
       "    <tr>\n",
       "      <th>2</th>\n",
       "      <td>136122</td>\n",
       "      <td>PG0252</td>\n",
       "      <td>Anapa</td>\n",
       "      <td>Moscow</td>\n",
       "      <td>2017-01-08 10:05:00</td>\n",
       "      <td>2017-01-08 11:45:00</td>\n",
       "      <td>97.0</td>\n",
       "      <td>87.0</td>\n",
       "      <td>10.0</td>\n",
       "      <td>130</td>\n",
       "      <td>...</td>\n",
       "      <td>6</td>\n",
       "      <td>10:05:00</td>\n",
       "      <td>2017-01-08</td>\n",
       "      <td>1</td>\n",
       "      <td>4.000000</td>\n",
       "      <td>195573.20</td>\n",
       "      <td>1235426.80</td>\n",
       "      <td>below_average</td>\n",
       "      <td>0.746154</td>\n",
       "      <td>12241.379310</td>\n",
       "    </tr>\n",
       "    <tr>\n",
       "      <th>38</th>\n",
       "      <td>136360</td>\n",
       "      <td>PG0252</td>\n",
       "      <td>Anapa</td>\n",
       "      <td>Moscow</td>\n",
       "      <td>2017-02-05 10:05:00</td>\n",
       "      <td>2017-02-05 11:45:00</td>\n",
       "      <td>97.0</td>\n",
       "      <td>86.0</td>\n",
       "      <td>11.0</td>\n",
       "      <td>130</td>\n",
       "      <td>...</td>\n",
       "      <td>6</td>\n",
       "      <td>10:05:00</td>\n",
       "      <td>2017-02-05</td>\n",
       "      <td>2</td>\n",
       "      <td>4.000000</td>\n",
       "      <td>186690.16</td>\n",
       "      <td>1268709.84</td>\n",
       "      <td>below_average</td>\n",
       "      <td>0.746154</td>\n",
       "      <td>12241.860465</td>\n",
       "    </tr>\n",
       "    <tr>\n",
       "      <th>68</th>\n",
       "      <td>136642</td>\n",
       "      <td>PG0480</td>\n",
       "      <td>Anapa</td>\n",
       "      <td>Belgorod</td>\n",
       "      <td>2017-01-30 09:25:00</td>\n",
       "      <td>2017-01-30 10:15:00</td>\n",
       "      <td>64.0</td>\n",
       "      <td>54.0</td>\n",
       "      <td>10.0</td>\n",
       "      <td>97</td>\n",
       "      <td>...</td>\n",
       "      <td>0</td>\n",
       "      <td>09:25:00</td>\n",
       "      <td>2017-01-30</td>\n",
       "      <td>1</td>\n",
       "      <td>1.388333</td>\n",
       "      <td>67880.20</td>\n",
       "      <td>463119.80</td>\n",
       "      <td>below_average</td>\n",
       "      <td>0.659794</td>\n",
       "      <td>6333.333333</td>\n",
       "    </tr>\n",
       "    <tr>\n",
       "      <th>93</th>\n",
       "      <td>136807</td>\n",
       "      <td>PG0480</td>\n",
       "      <td>Anapa</td>\n",
       "      <td>Belgorod</td>\n",
       "      <td>2017-02-23 09:25:00</td>\n",
       "      <td>2017-02-23 10:15:00</td>\n",
       "      <td>68.0</td>\n",
       "      <td>60.0</td>\n",
       "      <td>8.0</td>\n",
       "      <td>97</td>\n",
       "      <td>...</td>\n",
       "      <td>3</td>\n",
       "      <td>09:25:00</td>\n",
       "      <td>2017-02-23</td>\n",
       "      <td>2</td>\n",
       "      <td>1.416667</td>\n",
       "      <td>66119.43</td>\n",
       "      <td>464880.57</td>\n",
       "      <td>below_average</td>\n",
       "      <td>0.701031</td>\n",
       "      <td>6330.000000</td>\n",
       "    </tr>\n",
       "  </tbody>\n",
       "</table>\n",
       "<p>4 rows × 24 columns</p>\n",
       "</div>"
      ],
      "text/plain": [
       "    flight_id flight_no departure_city arrival_city scheduled_departure  \\\n",
       "2      136122    PG0252          Anapa       Moscow 2017-01-08 10:05:00   \n",
       "38     136360    PG0252          Anapa       Moscow 2017-02-05 10:05:00   \n",
       "68     136642    PG0480          Anapa     Belgorod 2017-01-30 09:25:00   \n",
       "93     136807    PG0480          Anapa     Belgorod 2017-02-23 09:25:00   \n",
       "\n",
       "     scheduled_arrival  seats_sold  economy_sold  business_sold  total_seats  \\\n",
       "2  2017-01-08 11:45:00        97.0          87.0           10.0          130   \n",
       "38 2017-02-05 11:45:00        97.0          86.0           11.0          130   \n",
       "68 2017-01-30 10:15:00        64.0          54.0           10.0           97   \n",
       "93 2017-02-23 10:15:00        68.0          60.0            8.0           97   \n",
       "\n",
       "    ...  departure_day  departure_time departure_date  departure_month  \\\n",
       "2   ...              6        10:05:00     2017-01-08                1   \n",
       "38  ...              6        10:05:00     2017-02-05                2   \n",
       "68  ...              0        09:25:00     2017-01-30                1   \n",
       "93  ...              3        09:25:00     2017-02-23                2   \n",
       "\n",
       "    used_fuel  fuel_cost     revenue    profit_type  seat_coverage  \\\n",
       "2    4.000000  195573.20  1235426.80  below_average       0.746154   \n",
       "38   4.000000  186690.16  1268709.84  below_average       0.746154   \n",
       "68   1.388333   67880.20   463119.80  below_average       0.659794   \n",
       "93   1.416667   66119.43   464880.57  below_average       0.701031   \n",
       "\n",
       "    economy_price  \n",
       "2    12241.379310  \n",
       "38   12241.860465  \n",
       "68    6333.333333  \n",
       "93    6330.000000  \n",
       "\n",
       "[4 rows x 24 columns]"
      ]
     },
     "execution_count": 34,
     "metadata": {},
     "output_type": "execute_result"
    }
   ],
   "source": [
    "ids_to_cancel = [136642, 136807, 136122, 136360]\n",
    "\n",
    "data.loc[data.apply(lambda x: x['flight_id'] in ids_to_cancel, axis=1)]"
   ]
  }
 ],
 "metadata": {
  "kernelspec": {
   "display_name": "Python 3",
   "language": "python",
   "name": "python3"
  },
  "language_info": {
   "codemirror_mode": {
    "name": "ipython",
    "version": 3
   },
   "file_extension": ".py",
   "mimetype": "text/x-python",
   "name": "python",
   "nbconvert_exporter": "python",
   "pygments_lexer": "ipython3",
   "version": "3.8.5"
  }
 },
 "nbformat": 4,
 "nbformat_minor": 4
}
