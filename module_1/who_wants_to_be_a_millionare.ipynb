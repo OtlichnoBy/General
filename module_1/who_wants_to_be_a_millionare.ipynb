{
 "cells": [
  {
   "cell_type": "code",
   "execution_count": 68,
   "metadata": {
    "_cell_guid": "b1076dfc-b9ad-4769-8c92-a6c4dae69d19",
    "_uuid": "8f2839f25d086af736a60e9eeb907d3b93b6e0e5",
    "colab": {},
    "colab_type": "code",
    "id": "U2D2gTdJVp90"
   },
   "outputs": [],
   "source": [
    "import numpy as np\n",
    "import pandas as pd\n",
    "import seaborn as sns\n",
    "import matplotlib.pyplot as plt\n",
    "from collections import Counter\n",
    "import itertools"
   ]
  },
  {
   "cell_type": "code",
   "execution_count": 2,
   "metadata": {
    "_cell_guid": "79c7e3d0-c299-4dcb-8224-4455121ee9b0",
    "_uuid": "d629ff2d2480ee46fbb7e2d37f6b5fab8052498a",
    "colab": {},
    "colab_type": "code",
    "id": "oyGfxL3eVp9-"
   },
   "outputs": [
    {
     "data": {
      "text/html": [
       "<div>\n",
       "<style scoped>\n",
       "    .dataframe tbody tr th:only-of-type {\n",
       "        vertical-align: middle;\n",
       "    }\n",
       "\n",
       "    .dataframe tbody tr th {\n",
       "        vertical-align: top;\n",
       "    }\n",
       "\n",
       "    .dataframe thead th {\n",
       "        text-align: right;\n",
       "    }\n",
       "</style>\n",
       "<table border=\"1\" class=\"dataframe\">\n",
       "  <thead>\n",
       "    <tr style=\"text-align: right;\">\n",
       "      <th></th>\n",
       "      <th>imdb_id</th>\n",
       "      <th>budget</th>\n",
       "      <th>revenue</th>\n",
       "      <th>original_title</th>\n",
       "      <th>cast</th>\n",
       "      <th>director</th>\n",
       "      <th>tagline</th>\n",
       "      <th>overview</th>\n",
       "      <th>runtime</th>\n",
       "      <th>genres</th>\n",
       "      <th>production_companies</th>\n",
       "      <th>release_date</th>\n",
       "      <th>vote_average</th>\n",
       "      <th>release_year</th>\n",
       "    </tr>\n",
       "  </thead>\n",
       "  <tbody>\n",
       "    <tr>\n",
       "      <th>1661</th>\n",
       "      <td>tt0315824</td>\n",
       "      <td>50000000</td>\n",
       "      <td>6808550</td>\n",
       "      <td>The Big Bounce</td>\n",
       "      <td>Owen Wilson|Morgan Freeman|Gary Sinise|Sara Fo...</td>\n",
       "      <td>George Armitage</td>\n",
       "      <td>It's all in who you trust</td>\n",
       "      <td>A small-time con artist and a Hawaiian real es...</td>\n",
       "      <td>88</td>\n",
       "      <td>Comedy|Crime</td>\n",
       "      <td>Warner Bros. Pictures|Shangri-La Entertainment...</td>\n",
       "      <td>1/30/2004</td>\n",
       "      <td>4.9</td>\n",
       "      <td>2004</td>\n",
       "    </tr>\n",
       "    <tr>\n",
       "      <th>1535</th>\n",
       "      <td>tt0475276</td>\n",
       "      <td>15000000</td>\n",
       "      <td>76286096</td>\n",
       "      <td>United 93</td>\n",
       "      <td>J.J. Johnson|Polly Adams|Trish Gates|Nancy McD...</td>\n",
       "      <td>Paul Greengrass</td>\n",
       "      <td>September 11, 2001. Four planes were hijacked....</td>\n",
       "      <td>A real time account of the events on United Fl...</td>\n",
       "      <td>111</td>\n",
       "      <td>Drama|History|Crime|Thriller|Action</td>\n",
       "      <td>Universal Pictures|StudioCanal|Sidney Kimmel E...</td>\n",
       "      <td>4/28/2006</td>\n",
       "      <td>6.6</td>\n",
       "      <td>2006</td>\n",
       "    </tr>\n",
       "    <tr>\n",
       "      <th>625</th>\n",
       "      <td>tt0942385</td>\n",
       "      <td>92000000</td>\n",
       "      <td>188072649</td>\n",
       "      <td>Tropic Thunder</td>\n",
       "      <td>Ben Stiller|Robert Downey Jr.|Jack Black|Jay B...</td>\n",
       "      <td>Ben Stiller</td>\n",
       "      <td>The movie they think they're making... isn't a...</td>\n",
       "      <td>Vietnam veteran 'Four Leaf' Tayback's memoir, ...</td>\n",
       "      <td>107</td>\n",
       "      <td>Action|Comedy</td>\n",
       "      <td>DreamWorks SKG|Goldcrest Pictures|Red Hour Fil...</td>\n",
       "      <td>8/9/2008</td>\n",
       "      <td>6.4</td>\n",
       "      <td>2008</td>\n",
       "    </tr>\n",
       "    <tr>\n",
       "      <th>1272</th>\n",
       "      <td>tt2334873</td>\n",
       "      <td>18000000</td>\n",
       "      <td>97505481</td>\n",
       "      <td>Blue Jasmine</td>\n",
       "      <td>Cate Blanchett|Alec Baldwin|Sally Hawkins|Bobb...</td>\n",
       "      <td>Woody Allen</td>\n",
       "      <td>Blue Moon. I used to know the words. Now they'...</td>\n",
       "      <td>Jasmine French used to be on the top of the he...</td>\n",
       "      <td>98</td>\n",
       "      <td>Comedy|Drama</td>\n",
       "      <td>Perdido Productions</td>\n",
       "      <td>7/25/2013</td>\n",
       "      <td>6.9</td>\n",
       "      <td>2013</td>\n",
       "    </tr>\n",
       "    <tr>\n",
       "      <th>1307</th>\n",
       "      <td>tt2431286</td>\n",
       "      <td>12000000</td>\n",
       "      <td>100129872</td>\n",
       "      <td>Philomena</td>\n",
       "      <td>Judi Dench|Steve Coogan|Sophie Kennedy Clark|M...</td>\n",
       "      <td>Stephen Frears</td>\n",
       "      <td>These two unlikely companions are on a journey...</td>\n",
       "      <td>A woman searches for her adult son, who was ta...</td>\n",
       "      <td>98</td>\n",
       "      <td>Drama</td>\n",
       "      <td>BBC Films|The Weinstein Company|Baby Cow Produ...</td>\n",
       "      <td>11/1/2013</td>\n",
       "      <td>7.4</td>\n",
       "      <td>2013</td>\n",
       "    </tr>\n",
       "  </tbody>\n",
       "</table>\n",
       "</div>"
      ],
      "text/plain": [
       "        imdb_id    budget    revenue  original_title  \\\n",
       "1661  tt0315824  50000000    6808550  The Big Bounce   \n",
       "1535  tt0475276  15000000   76286096       United 93   \n",
       "625   tt0942385  92000000  188072649  Tropic Thunder   \n",
       "1272  tt2334873  18000000   97505481    Blue Jasmine   \n",
       "1307  tt2431286  12000000  100129872       Philomena   \n",
       "\n",
       "                                                   cast         director  \\\n",
       "1661  Owen Wilson|Morgan Freeman|Gary Sinise|Sara Fo...  George Armitage   \n",
       "1535  J.J. Johnson|Polly Adams|Trish Gates|Nancy McD...  Paul Greengrass   \n",
       "625   Ben Stiller|Robert Downey Jr.|Jack Black|Jay B...      Ben Stiller   \n",
       "1272  Cate Blanchett|Alec Baldwin|Sally Hawkins|Bobb...      Woody Allen   \n",
       "1307  Judi Dench|Steve Coogan|Sophie Kennedy Clark|M...   Stephen Frears   \n",
       "\n",
       "                                                tagline  \\\n",
       "1661                          It's all in who you trust   \n",
       "1535  September 11, 2001. Four planes were hijacked....   \n",
       "625   The movie they think they're making... isn't a...   \n",
       "1272  Blue Moon. I used to know the words. Now they'...   \n",
       "1307  These two unlikely companions are on a journey...   \n",
       "\n",
       "                                               overview  runtime  \\\n",
       "1661  A small-time con artist and a Hawaiian real es...       88   \n",
       "1535  A real time account of the events on United Fl...      111   \n",
       "625   Vietnam veteran 'Four Leaf' Tayback's memoir, ...      107   \n",
       "1272  Jasmine French used to be on the top of the he...       98   \n",
       "1307  A woman searches for her adult son, who was ta...       98   \n",
       "\n",
       "                                   genres  \\\n",
       "1661                         Comedy|Crime   \n",
       "1535  Drama|History|Crime|Thriller|Action   \n",
       "625                         Action|Comedy   \n",
       "1272                         Comedy|Drama   \n",
       "1307                                Drama   \n",
       "\n",
       "                                   production_companies release_date  \\\n",
       "1661  Warner Bros. Pictures|Shangri-La Entertainment...    1/30/2004   \n",
       "1535  Universal Pictures|StudioCanal|Sidney Kimmel E...    4/28/2006   \n",
       "625   DreamWorks SKG|Goldcrest Pictures|Red Hour Fil...     8/9/2008   \n",
       "1272                                Perdido Productions    7/25/2013   \n",
       "1307  BBC Films|The Weinstein Company|Baby Cow Produ...    11/1/2013   \n",
       "\n",
       "      vote_average  release_year  \n",
       "1661           4.9          2004  \n",
       "1535           6.6          2006  \n",
       "625            6.4          2008  \n",
       "1272           6.9          2013  \n",
       "1307           7.4          2013  "
      ]
     },
     "execution_count": 2,
     "metadata": {},
     "output_type": "execute_result"
    }
   ],
   "source": [
    "data = pd.read_csv('movie_bd_v5.csv')\n",
    "data.sample(5)"
   ]
  },
  {
   "cell_type": "code",
   "execution_count": 3,
   "metadata": {
    "colab": {},
    "colab_type": "code",
    "id": "CoYUnagMVp-C"
   },
   "outputs": [
    {
     "data": {
      "text/html": [
       "<div>\n",
       "<style scoped>\n",
       "    .dataframe tbody tr th:only-of-type {\n",
       "        vertical-align: middle;\n",
       "    }\n",
       "\n",
       "    .dataframe tbody tr th {\n",
       "        vertical-align: top;\n",
       "    }\n",
       "\n",
       "    .dataframe thead th {\n",
       "        text-align: right;\n",
       "    }\n",
       "</style>\n",
       "<table border=\"1\" class=\"dataframe\">\n",
       "  <thead>\n",
       "    <tr style=\"text-align: right;\">\n",
       "      <th></th>\n",
       "      <th>budget</th>\n",
       "      <th>revenue</th>\n",
       "      <th>runtime</th>\n",
       "      <th>vote_average</th>\n",
       "      <th>release_year</th>\n",
       "    </tr>\n",
       "  </thead>\n",
       "  <tbody>\n",
       "    <tr>\n",
       "      <th>count</th>\n",
       "      <td>1.889000e+03</td>\n",
       "      <td>1.889000e+03</td>\n",
       "      <td>1889.000000</td>\n",
       "      <td>1889.000000</td>\n",
       "      <td>1889.000000</td>\n",
       "    </tr>\n",
       "    <tr>\n",
       "      <th>mean</th>\n",
       "      <td>5.431083e+07</td>\n",
       "      <td>1.553653e+08</td>\n",
       "      <td>109.658549</td>\n",
       "      <td>6.140762</td>\n",
       "      <td>2007.860773</td>\n",
       "    </tr>\n",
       "    <tr>\n",
       "      <th>std</th>\n",
       "      <td>4.858721e+07</td>\n",
       "      <td>2.146698e+08</td>\n",
       "      <td>18.017041</td>\n",
       "      <td>0.764763</td>\n",
       "      <td>4.468841</td>\n",
       "    </tr>\n",
       "    <tr>\n",
       "      <th>min</th>\n",
       "      <td>5.000000e+06</td>\n",
       "      <td>2.033165e+06</td>\n",
       "      <td>63.000000</td>\n",
       "      <td>3.300000</td>\n",
       "      <td>2000.000000</td>\n",
       "    </tr>\n",
       "    <tr>\n",
       "      <th>25%</th>\n",
       "      <td>2.000000e+07</td>\n",
       "      <td>3.456058e+07</td>\n",
       "      <td>97.000000</td>\n",
       "      <td>5.600000</td>\n",
       "      <td>2004.000000</td>\n",
       "    </tr>\n",
       "    <tr>\n",
       "      <th>50%</th>\n",
       "      <td>3.800000e+07</td>\n",
       "      <td>8.361541e+07</td>\n",
       "      <td>107.000000</td>\n",
       "      <td>6.100000</td>\n",
       "      <td>2008.000000</td>\n",
       "    </tr>\n",
       "    <tr>\n",
       "      <th>75%</th>\n",
       "      <td>7.200000e+07</td>\n",
       "      <td>1.782626e+08</td>\n",
       "      <td>120.000000</td>\n",
       "      <td>6.600000</td>\n",
       "      <td>2012.000000</td>\n",
       "    </tr>\n",
       "    <tr>\n",
       "      <th>max</th>\n",
       "      <td>3.800000e+08</td>\n",
       "      <td>2.781506e+09</td>\n",
       "      <td>214.000000</td>\n",
       "      <td>8.100000</td>\n",
       "      <td>2015.000000</td>\n",
       "    </tr>\n",
       "  </tbody>\n",
       "</table>\n",
       "</div>"
      ],
      "text/plain": [
       "             budget       revenue      runtime  vote_average  release_year\n",
       "count  1.889000e+03  1.889000e+03  1889.000000   1889.000000   1889.000000\n",
       "mean   5.431083e+07  1.553653e+08   109.658549      6.140762   2007.860773\n",
       "std    4.858721e+07  2.146698e+08    18.017041      0.764763      4.468841\n",
       "min    5.000000e+06  2.033165e+06    63.000000      3.300000   2000.000000\n",
       "25%    2.000000e+07  3.456058e+07    97.000000      5.600000   2004.000000\n",
       "50%    3.800000e+07  8.361541e+07   107.000000      6.100000   2008.000000\n",
       "75%    7.200000e+07  1.782626e+08   120.000000      6.600000   2012.000000\n",
       "max    3.800000e+08  2.781506e+09   214.000000      8.100000   2015.000000"
      ]
     },
     "execution_count": 3,
     "metadata": {},
     "output_type": "execute_result"
    }
   ],
   "source": [
    "data.describe()"
   ]
  },
  {
   "cell_type": "markdown",
   "metadata": {
    "colab_type": "text",
    "id": "DTIt7ezGVp-G"
   },
   "source": [
    "# Предобработка"
   ]
  },
  {
   "cell_type": "code",
   "execution_count": 4,
   "metadata": {
    "colab": {},
    "colab_type": "code",
    "id": "jNb40DwKVp-H"
   },
   "outputs": [],
   "source": [
    "answers = {}  # Словарь для ответов\n",
    "\n",
    "data['profit'] = data.revenue - data.budget  \n",
    "# Столбец с информацей о прибыли\n",
    "\n",
    "data.release_date = pd.to_datetime(data['release_date'])\n",
    "# Переформатируем дату\n",
    "\n",
    "\n",
    "def df_explode(df, col):\n",
    "    \"\"\"Разбивает строку по разделителю\"\"\"\n",
    "    df[col] = df[col].str.split('|')\n",
    "    df = df.explode(col)\n",
    "    return df\n",
    "\n",
    "\n",
    "def split(string):\n",
    "    \"\"\"Разбивает строку на список строк\"\"\"\n",
    "    result = string.str.split('|')\n",
    "    return result"
   ]
  },
  {
   "cell_type": "code",
   "execution_count": 5,
   "metadata": {},
   "outputs": [
    {
     "data": {
      "text/html": [
       "<div>\n",
       "<style scoped>\n",
       "    .dataframe tbody tr th:only-of-type {\n",
       "        vertical-align: middle;\n",
       "    }\n",
       "\n",
       "    .dataframe tbody tr th {\n",
       "        vertical-align: top;\n",
       "    }\n",
       "\n",
       "    .dataframe thead th {\n",
       "        text-align: right;\n",
       "    }\n",
       "</style>\n",
       "<table border=\"1\" class=\"dataframe\">\n",
       "  <thead>\n",
       "    <tr style=\"text-align: right;\">\n",
       "      <th></th>\n",
       "      <th>imdb_id</th>\n",
       "      <th>budget</th>\n",
       "      <th>revenue</th>\n",
       "      <th>original_title</th>\n",
       "      <th>cast</th>\n",
       "      <th>director</th>\n",
       "      <th>tagline</th>\n",
       "      <th>overview</th>\n",
       "      <th>runtime</th>\n",
       "      <th>genres</th>\n",
       "      <th>production_companies</th>\n",
       "      <th>release_date</th>\n",
       "      <th>vote_average</th>\n",
       "      <th>release_year</th>\n",
       "      <th>profit</th>\n",
       "    </tr>\n",
       "  </thead>\n",
       "  <tbody>\n",
       "    <tr>\n",
       "      <th>413</th>\n",
       "      <td>tt1504320</td>\n",
       "      <td>15000000</td>\n",
       "      <td>414211549</td>\n",
       "      <td>The King's Speech</td>\n",
       "      <td>Colin Firth|Geoffrey Rush|Helena Bonham Carter...</td>\n",
       "      <td>Tom Hooper</td>\n",
       "      <td>Find your voice.</td>\n",
       "      <td>The King's Speech tells the story of the man w...</td>\n",
       "      <td>118</td>\n",
       "      <td>Drama|History</td>\n",
       "      <td>The Weinstein Company|UK Film Council|Bedlam P...</td>\n",
       "      <td>2010-09-06</td>\n",
       "      <td>7.4</td>\n",
       "      <td>2010</td>\n",
       "      <td>399211549</td>\n",
       "    </tr>\n",
       "    <tr>\n",
       "      <th>1377</th>\n",
       "      <td>tt0376105</td>\n",
       "      <td>30000000</td>\n",
       "      <td>93772522</td>\n",
       "      <td>Racing Stripes</td>\n",
       "      <td>Frankie Muniz|Mandy Moore|Hayden Panettiere|Br...</td>\n",
       "      <td>Frederik Du Chau</td>\n",
       "      <td>Cheer 'til you're horse!</td>\n",
       "      <td>Shattered illusions are hard to repair -- espe...</td>\n",
       "      <td>102</td>\n",
       "      <td>Comedy</td>\n",
       "      <td>Alcon Entertainment</td>\n",
       "      <td>2005-01-06</td>\n",
       "      <td>5.1</td>\n",
       "      <td>2005</td>\n",
       "      <td>63772522</td>\n",
       "    </tr>\n",
       "    <tr>\n",
       "      <th>432</th>\n",
       "      <td>tt1235189</td>\n",
       "      <td>8000000</td>\n",
       "      <td>3453043</td>\n",
       "      <td>Wild Target</td>\n",
       "      <td>Bill Nighy|Emily Blunt|Rupert Grint|Rupert Eve...</td>\n",
       "      <td>Jonathan Lynn</td>\n",
       "      <td>They said 'Take her out'. He got the wrong idea.</td>\n",
       "      <td>Victor Maynard is a middle-aged, solitary assa...</td>\n",
       "      <td>98</td>\n",
       "      <td>Action|Comedy</td>\n",
       "      <td>Matador Pictures|Isle of Man Film|Magic Light ...</td>\n",
       "      <td>2010-06-17</td>\n",
       "      <td>6.1</td>\n",
       "      <td>2010</td>\n",
       "      <td>-4546957</td>\n",
       "    </tr>\n",
       "    <tr>\n",
       "      <th>1678</th>\n",
       "      <td>tt0486655</td>\n",
       "      <td>70000000</td>\n",
       "      <td>135560026</td>\n",
       "      <td>Stardust</td>\n",
       "      <td>Claire Danes|Charlie Cox|Michelle Pfeiffer|Rob...</td>\n",
       "      <td>Matthew Vaughn</td>\n",
       "      <td>This Summer A Star Falls. The Chase Begins.</td>\n",
       "      <td>In a countryside town bordering on a magical l...</td>\n",
       "      <td>127</td>\n",
       "      <td>Adventure|Fantasy|Romance|Family</td>\n",
       "      <td>Paramount Pictures|Ingenious Film Partners|Di ...</td>\n",
       "      <td>2007-08-09</td>\n",
       "      <td>7.0</td>\n",
       "      <td>2007</td>\n",
       "      <td>65560026</td>\n",
       "    </tr>\n",
       "    <tr>\n",
       "      <th>1485</th>\n",
       "      <td>tt0443543</td>\n",
       "      <td>40000000</td>\n",
       "      <td>86915017</td>\n",
       "      <td>The Illusionist</td>\n",
       "      <td>Edward Norton|Jessica Biel|Paul Giamatti|Rufus...</td>\n",
       "      <td>Neil Burger</td>\n",
       "      <td>Nothing Is What It Seems.</td>\n",
       "      <td>With his eye on a lovely aristocrat, a gifted ...</td>\n",
       "      <td>110</td>\n",
       "      <td>Fantasy|Drama|Thriller|Romance</td>\n",
       "      <td>Michael London Productions|Stillking Films|Bob...</td>\n",
       "      <td>2006-08-18</td>\n",
       "      <td>7.0</td>\n",
       "      <td>2006</td>\n",
       "      <td>46915017</td>\n",
       "    </tr>\n",
       "  </tbody>\n",
       "</table>\n",
       "</div>"
      ],
      "text/plain": [
       "        imdb_id    budget    revenue     original_title  \\\n",
       "413   tt1504320  15000000  414211549  The King's Speech   \n",
       "1377  tt0376105  30000000   93772522     Racing Stripes   \n",
       "432   tt1235189   8000000    3453043        Wild Target   \n",
       "1678  tt0486655  70000000  135560026           Stardust   \n",
       "1485  tt0443543  40000000   86915017    The Illusionist   \n",
       "\n",
       "                                                   cast          director  \\\n",
       "413   Colin Firth|Geoffrey Rush|Helena Bonham Carter...        Tom Hooper   \n",
       "1377  Frankie Muniz|Mandy Moore|Hayden Panettiere|Br...  Frederik Du Chau   \n",
       "432   Bill Nighy|Emily Blunt|Rupert Grint|Rupert Eve...     Jonathan Lynn   \n",
       "1678  Claire Danes|Charlie Cox|Michelle Pfeiffer|Rob...    Matthew Vaughn   \n",
       "1485  Edward Norton|Jessica Biel|Paul Giamatti|Rufus...       Neil Burger   \n",
       "\n",
       "                                               tagline  \\\n",
       "413                                   Find your voice.   \n",
       "1377                          Cheer 'til you're horse!   \n",
       "432   They said 'Take her out'. He got the wrong idea.   \n",
       "1678       This Summer A Star Falls. The Chase Begins.   \n",
       "1485                         Nothing Is What It Seems.   \n",
       "\n",
       "                                               overview  runtime  \\\n",
       "413   The King's Speech tells the story of the man w...      118   \n",
       "1377  Shattered illusions are hard to repair -- espe...      102   \n",
       "432   Victor Maynard is a middle-aged, solitary assa...       98   \n",
       "1678  In a countryside town bordering on a magical l...      127   \n",
       "1485  With his eye on a lovely aristocrat, a gifted ...      110   \n",
       "\n",
       "                                genres  \\\n",
       "413                      Drama|History   \n",
       "1377                            Comedy   \n",
       "432                      Action|Comedy   \n",
       "1678  Adventure|Fantasy|Romance|Family   \n",
       "1485    Fantasy|Drama|Thriller|Romance   \n",
       "\n",
       "                                   production_companies release_date  \\\n",
       "413   The Weinstein Company|UK Film Council|Bedlam P...   2010-09-06   \n",
       "1377                                Alcon Entertainment   2005-01-06   \n",
       "432   Matador Pictures|Isle of Man Film|Magic Light ...   2010-06-17   \n",
       "1678  Paramount Pictures|Ingenious Film Partners|Di ...   2007-08-09   \n",
       "1485  Michael London Productions|Stillking Films|Bob...   2006-08-18   \n",
       "\n",
       "      vote_average  release_year     profit  \n",
       "413            7.4          2010  399211549  \n",
       "1377           5.1          2005   63772522  \n",
       "432            6.1          2010   -4546957  \n",
       "1678           7.0          2007   65560026  \n",
       "1485           7.0          2006   46915017  "
      ]
     },
     "execution_count": 5,
     "metadata": {},
     "output_type": "execute_result"
    }
   ],
   "source": [
    "data.sample(5)"
   ]
  },
  {
   "cell_type": "markdown",
   "metadata": {
    "colab_type": "text",
    "id": "YxZaH-nPVp-L"
   },
   "source": [
    "# 1. У какого фильма из списка самый большой бюджет?"
   ]
  },
  {
   "cell_type": "markdown",
   "metadata": {
    "colab_type": "text",
    "id": "Nd-G5gX6Vp-M"
   },
   "source": [
    "Использовать варианты ответов в коде решения запрещено.    \n",
    "Вы думаете и в жизни у вас будут варианты ответов?)"
   ]
  },
  {
   "cell_type": "code",
   "execution_count": 6,
   "metadata": {
    "colab": {},
    "colab_type": "code",
    "id": "uVnXAY5RVp-O"
   },
   "outputs": [],
   "source": [
    "answers['1'] = 'Pirates of the Caribbean: On Stranger Tides (tt1298650)'"
   ]
  },
  {
   "cell_type": "code",
   "execution_count": 7,
   "metadata": {
    "colab": {},
    "colab_type": "code",
    "id": "dZwb3m28Vp-S",
    "scrolled": true
   },
   "outputs": [
    {
     "data": {
      "text/plain": [
       "723    Pirates of the Caribbean: On Stranger Tides\n",
       "Name: original_title, dtype: object"
      ]
     },
     "execution_count": 7,
     "metadata": {},
     "output_type": "execute_result"
    }
   ],
   "source": [
    "data1 = data.copy()\n",
    "data1[data1.budget == data1.budget.max()].original_title"
   ]
  },
  {
   "cell_type": "markdown",
   "metadata": {
    "colab_type": "text",
    "id": "FNRbbI3vVp-c"
   },
   "source": [
    "# 2. Какой из фильмов самый длительный (в минутах)?"
   ]
  },
  {
   "cell_type": "code",
   "execution_count": 8,
   "metadata": {
    "colab": {},
    "colab_type": "code",
    "id": "vHAoEXNTVp-d"
   },
   "outputs": [],
   "source": [
    "answers['2'] = 'Gods and Generals (tt0279111)'"
   ]
  },
  {
   "cell_type": "code",
   "execution_count": 9,
   "metadata": {
    "colab": {},
    "colab_type": "code",
    "id": "ot-VX2XrVp-g"
   },
   "outputs": [
    {
     "data": {
      "text/plain": [
       "1157    Gods and Generals\n",
       "Name: original_title, dtype: object"
      ]
     },
     "execution_count": 9,
     "metadata": {},
     "output_type": "execute_result"
    }
   ],
   "source": [
    "data2 = data.copy()\n",
    "data2[data2.runtime == data2.runtime.max()].original_title"
   ]
  },
  {
   "cell_type": "markdown",
   "metadata": {
    "colab_type": "text",
    "id": "bapLlpW8Vp-k"
   },
   "source": [
    "# 3. Какой из фильмов самый короткий (в минутах)?\n",
    "\n",
    "\n",
    "\n"
   ]
  },
  {
   "cell_type": "code",
   "execution_count": 10,
   "metadata": {
    "colab": {},
    "colab_type": "code",
    "id": "YBxaSHuAVp-l"
   },
   "outputs": [],
   "source": [
    "answers['3'] = 'Winnie the Pooh (tt1449283)'"
   ]
  },
  {
   "cell_type": "code",
   "execution_count": 11,
   "metadata": {},
   "outputs": [
    {
     "data": {
      "text/plain": [
       "768    Winnie the Pooh\n",
       "Name: original_title, dtype: object"
      ]
     },
     "execution_count": 11,
     "metadata": {},
     "output_type": "execute_result"
    }
   ],
   "source": [
    "data3 = data.copy()\n",
    "data3[data3.runtime == data3.runtime.min()].original_title"
   ]
  },
  {
   "cell_type": "markdown",
   "metadata": {
    "colab_type": "text",
    "id": "TfQbxbfNVp-p"
   },
   "source": [
    "# 4. Какова средняя длительность фильмов?\n"
   ]
  },
  {
   "cell_type": "code",
   "execution_count": 12,
   "metadata": {
    "colab": {},
    "colab_type": "code",
    "id": "5K6dKZYVVp-q"
   },
   "outputs": [],
   "source": [
    "answers['4'] = '110'"
   ]
  },
  {
   "cell_type": "code",
   "execution_count": 13,
   "metadata": {},
   "outputs": [
    {
     "data": {
      "text/plain": [
       "110"
      ]
     },
     "execution_count": 13,
     "metadata": {},
     "output_type": "execute_result"
    }
   ],
   "source": [
    "data4 = data.copy()\n",
    "round(data4.runtime.mean())"
   ]
  },
  {
   "cell_type": "markdown",
   "metadata": {
    "colab_type": "text",
    "id": "r5TvbnT_Vp-u"
   },
   "source": [
    "# 5. Каково медианное значение длительности фильмов? "
   ]
  },
  {
   "cell_type": "code",
   "execution_count": 14,
   "metadata": {
    "colab": {},
    "colab_type": "code",
    "id": "iBROplKnVp-v"
   },
   "outputs": [],
   "source": [
    "answers['5'] = '107'"
   ]
  },
  {
   "cell_type": "code",
   "execution_count": 15,
   "metadata": {},
   "outputs": [
    {
     "data": {
      "text/plain": [
       "107"
      ]
     },
     "execution_count": 15,
     "metadata": {},
     "output_type": "execute_result"
    }
   ],
   "source": [
    "data5 = data.copy()\n",
    "round(data5.runtime.median())"
   ]
  },
  {
   "cell_type": "markdown",
   "metadata": {
    "colab_type": "text",
    "id": "39P-deDSVp-y"
   },
   "source": [
    "# 6. Какой самый прибыльный фильм?\n",
    "#### Внимание! Здесь и далее под «прибылью» или «убытками» понимается разность между сборами и бюджетом фильма. (прибыль = сборы - бюджет) в нашем датасете это будет (profit = revenue - budget) "
   ]
  },
  {
   "cell_type": "code",
   "execution_count": 16,
   "metadata": {
    "colab": {},
    "colab_type": "code",
    "id": "UYZh4T9WVp-y"
   },
   "outputs": [],
   "source": [
    "answers['6'] = 'Avatar (tt0499549)'"
   ]
  },
  {
   "cell_type": "code",
   "execution_count": 17,
   "metadata": {},
   "outputs": [
    {
     "data": {
      "text/plain": [
       "239    Avatar\n",
       "Name: original_title, dtype: object"
      ]
     },
     "execution_count": 17,
     "metadata": {},
     "output_type": "execute_result"
    }
   ],
   "source": [
    "data6 = data.copy()\n",
    "data6[data6.profit == data6.profit.max()].original_title"
   ]
  },
  {
   "cell_type": "markdown",
   "metadata": {
    "colab_type": "text",
    "id": "M99JmIX4Vp-2"
   },
   "source": [
    "# 7. Какой фильм самый убыточный? "
   ]
  },
  {
   "cell_type": "code",
   "execution_count": 18,
   "metadata": {
    "colab": {},
    "colab_type": "code",
    "id": "w-D2m4XPVp-3"
   },
   "outputs": [],
   "source": [
    "answers['7'] = 'The Lone Ranger (tt1210819)'"
   ]
  },
  {
   "cell_type": "code",
   "execution_count": 19,
   "metadata": {},
   "outputs": [
    {
     "data": {
      "text/plain": [
       "1245    The Lone Ranger\n",
       "Name: original_title, dtype: object"
      ]
     },
     "execution_count": 19,
     "metadata": {},
     "output_type": "execute_result"
    }
   ],
   "source": [
    "data7 = data.copy()\n",
    "data7[data7.profit == data7.profit.min()].original_title"
   ]
  },
  {
   "cell_type": "markdown",
   "metadata": {
    "colab_type": "text",
    "id": "wEOM5ERVVp-6"
   },
   "source": [
    "# 8. У скольких фильмов из датасета объем сборов оказался выше бюджета?"
   ]
  },
  {
   "cell_type": "code",
   "execution_count": 20,
   "metadata": {
    "colab": {},
    "colab_type": "code",
    "id": "y00_7HD6Vp-7"
   },
   "outputs": [],
   "source": [
    "answers['8'] = '1478'"
   ]
  },
  {
   "cell_type": "code",
   "execution_count": 21,
   "metadata": {},
   "outputs": [
    {
     "data": {
      "text/plain": [
       "1478"
      ]
     },
     "execution_count": 21,
     "metadata": {},
     "output_type": "execute_result"
    }
   ],
   "source": [
    "data8 = data.copy()\n",
    "len(data8[data8.revenue > data8.budget])"
   ]
  },
  {
   "cell_type": "markdown",
   "metadata": {
    "colab_type": "text",
    "id": "xhpspA9KVp_A"
   },
   "source": [
    "# 9. Какой фильм оказался самым кассовым в 2008 году?"
   ]
  },
  {
   "cell_type": "code",
   "execution_count": 22,
   "metadata": {
    "colab": {},
    "colab_type": "code",
    "id": "MoUyQr9RVp_B"
   },
   "outputs": [],
   "source": [
    "answers['9'] = 'The Dark Knight (tt0468569)'"
   ]
  },
  {
   "cell_type": "code",
   "execution_count": 23,
   "metadata": {},
   "outputs": [
    {
     "data": {
      "text/plain": [
       "599    The Dark Knight\n",
       "Name: original_title, dtype: object"
      ]
     },
     "execution_count": 23,
     "metadata": {},
     "output_type": "execute_result"
    }
   ],
   "source": [
    "data9 = data.copy()\n",
    "data9[data9.release_year == 2008].sort_values(\n",
    "    ['revenue'], ascending=False).head(1).original_title\n",
    "# Вывод самого кассового фильма 2008 года"
   ]
  },
  {
   "cell_type": "markdown",
   "metadata": {
    "colab_type": "text",
    "id": "Zi4hDKidVp_F"
   },
   "source": [
    "# 10. Самый убыточный фильм за период с 2012 по 2014 г. (включительно)?\n"
   ]
  },
  {
   "cell_type": "code",
   "execution_count": 24,
   "metadata": {
    "colab": {},
    "colab_type": "code",
    "id": "XqyRmufJVp_F"
   },
   "outputs": [],
   "source": [
    "answers['10'] = 'The Lone Ranger (tt1210819)'"
   ]
  },
  {
   "cell_type": "code",
   "execution_count": 79,
   "metadata": {},
   "outputs": [
    {
     "data": {
      "text/plain": [
       "1245    The Lone Ranger\n",
       "Name: original_title, dtype: object"
      ]
     },
     "execution_count": 79,
     "metadata": {},
     "output_type": "execute_result"
    }
   ],
   "source": [
    "data10 = data.copy()\n",
    "data10[data10.profit == data10.profit.min()].query(\n",
    "    '2012<=release_year<=2014').original_title\n",
    "# Вывод самого убыточного фильма за период с 2012 по 2014 г."
   ]
  },
  {
   "cell_type": "markdown",
   "metadata": {
    "colab_type": "text",
    "id": "EA7Sa9dkVp_I"
   },
   "source": [
    "# 11. Какого жанра фильмов больше всего?"
   ]
  },
  {
   "cell_type": "code",
   "execution_count": 26,
   "metadata": {
    "colab": {},
    "colab_type": "code",
    "id": "zsJAwJ8QVp_J"
   },
   "outputs": [],
   "source": [
    "answers['11'] = 'Drama'"
   ]
  },
  {
   "cell_type": "code",
   "execution_count": 80,
   "metadata": {},
   "outputs": [
    {
     "data": {
      "text/plain": [
       "'Drama'"
      ]
     },
     "execution_count": 80,
     "metadata": {},
     "output_type": "execute_result"
    }
   ],
   "source": [
    "data11 = data.copy()\n",
    "data11.genres.str.split('|').explode().value_counts().head(1).index[0]\n",
    "# Разделяем столбец с жанрами, считаем их и выводим самый часто встречаемый"
   ]
  },
  {
   "cell_type": "markdown",
   "metadata": {
    "colab_type": "text",
    "id": "Ax6g2C8SVp_M"
   },
   "source": [
    "ВАРИАНТ 2"
   ]
  },
  {
   "cell_type": "code",
   "execution_count": 28,
   "metadata": {
    "colab": {},
    "colab_type": "code",
    "id": "otO3SbrSVp_N"
   },
   "outputs": [
    {
     "data": {
      "text/plain": [
       "[('Drama', 782)]"
      ]
     },
     "execution_count": 28,
     "metadata": {},
     "output_type": "execute_result"
    }
   ],
   "source": [
    "data11 = data.copy()\n",
    "Counter(data11.genres.str.split('|').sum()).most_common(1)\n",
    "# Разделяем столбец с жанрами, считаем их и выводим самый часто встречаемый"
   ]
  },
  {
   "cell_type": "markdown",
   "metadata": {
    "colab_type": "text",
    "id": "T9_bPWpkVp_Q"
   },
   "source": [
    "# 12. Фильмы какого жанра чаще всего становятся прибыльными? "
   ]
  },
  {
   "cell_type": "code",
   "execution_count": 29,
   "metadata": {
    "colab": {},
    "colab_type": "code",
    "id": "Tmt8MaK1Vp_R"
   },
   "outputs": [],
   "source": [
    "answers['12'] = 'Drama'"
   ]
  },
  {
   "cell_type": "code",
   "execution_count": 83,
   "metadata": {},
   "outputs": [
    {
     "data": {
      "text/plain": [
       "'Drama'"
      ]
     },
     "execution_count": 83,
     "metadata": {},
     "output_type": "execute_result"
    }
   ],
   "source": [
    "data12 = data.copy()\n",
    "data12 = data12[data12.profit > 0].copy()  # Дф с положительной прибылью\n",
    "data12.genres.str.split('|').explode().value_counts().head(1).index[0]\n",
    "# Разделяем столбец с жанрами, сортируем по частоте, выводим первый заголовок"
   ]
  },
  {
   "cell_type": "markdown",
   "metadata": {
    "colab_type": "text",
    "id": "0F23bgsDVp_U"
   },
   "source": [
    "# 13. У какого режиссера самые большие суммарные кассовые сборы?"
   ]
  },
  {
   "cell_type": "code",
   "execution_count": 31,
   "metadata": {
    "colab": {},
    "colab_type": "code",
    "id": "K6Z3J8ygVp_X"
   },
   "outputs": [],
   "source": [
    "answers['13'] = 'Peter Jackson'"
   ]
  },
  {
   "cell_type": "code",
   "execution_count": 85,
   "metadata": {},
   "outputs": [
    {
     "data": {
      "text/html": [
       "<div>\n",
       "<style scoped>\n",
       "    .dataframe tbody tr th:only-of-type {\n",
       "        vertical-align: middle;\n",
       "    }\n",
       "\n",
       "    .dataframe tbody tr th {\n",
       "        vertical-align: top;\n",
       "    }\n",
       "\n",
       "    .dataframe thead th {\n",
       "        text-align: right;\n",
       "    }\n",
       "</style>\n",
       "<table border=\"1\" class=\"dataframe\">\n",
       "  <thead>\n",
       "    <tr style=\"text-align: right;\">\n",
       "      <th></th>\n",
       "      <th>sum</th>\n",
       "    </tr>\n",
       "    <tr>\n",
       "      <th>director</th>\n",
       "      <th></th>\n",
       "    </tr>\n",
       "  </thead>\n",
       "  <tbody>\n",
       "    <tr>\n",
       "      <th>Peter Jackson</th>\n",
       "      <td>6490593685</td>\n",
       "    </tr>\n",
       "  </tbody>\n",
       "</table>\n",
       "</div>"
      ],
      "text/plain": [
       "                      sum\n",
       "director                 \n",
       "Peter Jackson  6490593685"
      ]
     },
     "execution_count": 85,
     "metadata": {},
     "output_type": "execute_result"
    }
   ],
   "source": [
    "director_revenue = data.copy()\n",
    "\n",
    "director_revenue = df_explode(director_revenue, 'director')\n",
    "# Разбиваем информацию в столбце director на отдельные строки\n",
    "\n",
    "director_revenue.groupby(['director'])['revenue'].agg(['sum']).sort_values(\n",
    "        'sum', ascending=False).head(1)\n",
    "# Группируем суммарные кассовые сборы по режисерам"
   ]
  },
  {
   "cell_type": "markdown",
   "metadata": {
    "colab_type": "text",
    "id": "PsYC9FgRVp_a"
   },
   "source": [
    "# 14. Какой режисер снял больше всего фильмов в стиле Action?"
   ]
  },
  {
   "cell_type": "code",
   "execution_count": 33,
   "metadata": {
    "colab": {},
    "colab_type": "code",
    "id": "wd2M-wHeVp_b"
   },
   "outputs": [],
   "source": [
    "answers['14'] = 'Robert Rodriguez'"
   ]
  },
  {
   "cell_type": "code",
   "execution_count": 34,
   "metadata": {},
   "outputs": [
    {
     "data": {
      "text/plain": [
       "'Robert Rodriguez'"
      ]
     },
     "execution_count": 34,
     "metadata": {},
     "output_type": "execute_result"
    }
   ],
   "source": [
    "data14 = data.copy()\n",
    "data14[data14.genres.str.contains('Action')].director.str.split('|').explode(\n",
    "    'director').value_counts(ascending=False).head(1).index[0]\n",
    "# Делаем запрос к Дф о строках содержащих Action в столбце genres,\n",
    "# и считаем количество значений соотнесенных с разбитым столбцом director"
   ]
  },
  {
   "cell_type": "markdown",
   "metadata": {
    "colab_type": "text",
    "id": "PQ0KciD7Vp_f"
   },
   "source": [
    "# 15. Фильмы с каким актером принесли самые высокие кассовые сборы в 2012 году? "
   ]
  },
  {
   "cell_type": "code",
   "execution_count": 35,
   "metadata": {
    "colab": {},
    "colab_type": "code",
    "id": "aga62oeKVp_g"
   },
   "outputs": [],
   "source": [
    "answers['15'] = 'Chris Hemsworth'"
   ]
  },
  {
   "cell_type": "code",
   "execution_count": 89,
   "metadata": {},
   "outputs": [
    {
     "data": {
      "text/plain": [
       "'Chris Hemsworth'"
      ]
     },
     "execution_count": 89,
     "metadata": {},
     "output_type": "execute_result"
    }
   ],
   "source": [
    "data2012 = data[data.release_year == 2012].copy()  \n",
    "# Дф с информацией за 2012 год\n",
    "\n",
    "data2012 = df_explode(data2012, 'cast')\n",
    "# Разбиваем информацию в столбце cast на отдельные строки\n",
    "\n",
    "data2012.groupby(['cast'])['revenue'].sum().sort_values(\n",
    "    ascending=False).head(1).index[0]\n",
    "# Группируем актеров и сборы, выводим у кого из актеров сумма сборов выше"
   ]
  },
  {
   "cell_type": "markdown",
   "metadata": {
    "colab_type": "text",
    "id": "mWHyyL7QVp_j"
   },
   "source": [
    "# 16. Какой актер снялся в большем количестве высокобюджетных фильмов?"
   ]
  },
  {
   "cell_type": "code",
   "execution_count": 37,
   "metadata": {
    "colab": {},
    "colab_type": "code",
    "id": "qQtmHKTFVp_k"
   },
   "outputs": [],
   "source": [
    "answers['16'] = 'Matt Damon'"
   ]
  },
  {
   "cell_type": "code",
   "execution_count": 88,
   "metadata": {},
   "outputs": [
    {
     "data": {
      "text/plain": [
       "'Matt Damon'"
      ]
     },
     "execution_count": 88,
     "metadata": {},
     "output_type": "execute_result"
    }
   ],
   "source": [
    "cast_revenue = data[data.budget > data.budget.mean()].copy()\n",
    "# Создаем Дф, где бюджет выше среднего\n",
    "\n",
    "cast_revenue = df_explode(cast_revenue, 'cast')\n",
    "# Разбиваем информацию в столбце cast на отдельные строки\n",
    "\n",
    "cast_revenue.groupby(['cast'])['imdb_id'].count().sort_values(\n",
    "    ascending=False).head(1).index[0]\n",
    "# Группируем актеров и фильмы, выводим у кого из актеров больше фильмов"
   ]
  },
  {
   "cell_type": "markdown",
   "metadata": {
    "colab_type": "text",
    "id": "NIh6AaW5Vp_n"
   },
   "source": [
    "# 17. В фильмах какого жанра больше всего снимался Nicolas Cage? "
   ]
  },
  {
   "cell_type": "code",
   "execution_count": 39,
   "metadata": {
    "colab": {},
    "colab_type": "code",
    "id": "H74SJDIBVp_n"
   },
   "outputs": [],
   "source": [
    "answers['17'] = 'Action'"
   ]
  },
  {
   "cell_type": "code",
   "execution_count": 91,
   "metadata": {},
   "outputs": [
    {
     "data": {
      "text/plain": [
       "'Action'"
      ]
     },
     "execution_count": 91,
     "metadata": {},
     "output_type": "execute_result"
    }
   ],
   "source": [
    "data_cage = data.copy()\n",
    "\n",
    "data_cage = df_explode(data_cage, 'cast')\n",
    "data_cage = df_explode(data_cage, 'genres')\n",
    "# Разбиваем информацию в столбцах cast и genres на отдельные строки\n",
    "\n",
    "data_cage = data_cage[data_cage.cast == 'Nicolas Cage']\n",
    "# Фильтруем Дф чтобы осталась информация только по Николасу Кейджу\n",
    "\n",
    "data_cage.genres.value_counts(ascending=False).head(1).index[0]\n",
    "# Группируем Дф по жанрам"
   ]
  },
  {
   "cell_type": "markdown",
   "metadata": {
    "colab_type": "text",
    "id": "RqOmPRfWVp_q"
   },
   "source": [
    "# 18. Самый убыточный фильм от Paramount Pictures"
   ]
  },
  {
   "cell_type": "code",
   "execution_count": 41,
   "metadata": {
    "colab": {},
    "colab_type": "code",
    "id": "9E_B0Y96Vp_r"
   },
   "outputs": [],
   "source": [
    "answers['18'] = 'K-19: The Widowmaker (tt0267626)'"
   ]
  },
  {
   "cell_type": "code",
   "execution_count": 42,
   "metadata": {},
   "outputs": [
    {
     "data": {
      "text/plain": [
       "925    K-19: The Widowmaker\n",
       "Name: original_title, dtype: object"
      ]
     },
     "execution_count": 42,
     "metadata": {},
     "output_type": "execute_result"
    }
   ],
   "source": [
    "data_par = data.copy()\n",
    "# Создаем копию Дф\n",
    "\n",
    "data_par = df_explode(data_par, 'production_companies')\n",
    "# Разбиваем информацию о киностудиях на отдельные строки\n",
    "\n",
    "data_par = data_par[data_par.production_companies == 'Paramount Pictures']\n",
    "# Фильтруем, чтобы осталась только Paramount Pictures\n",
    "\n",
    "data_par[data_par.profit == data_par.profit.min()].original_title\n",
    "# Смотрим какой фильм имеет самую маленькую прибыль"
   ]
  },
  {
   "cell_type": "markdown",
   "metadata": {
    "colab_type": "text",
    "id": "vS8Ur6ddVp_u"
   },
   "source": [
    "# 19. Какой год стал самым успешным по суммарным кассовым сборам?"
   ]
  },
  {
   "cell_type": "code",
   "execution_count": 43,
   "metadata": {
    "colab": {},
    "colab_type": "code",
    "id": "Dnbt4GdIVp_v"
   },
   "outputs": [],
   "source": [
    "answers['19'] = '2015'"
   ]
  },
  {
   "cell_type": "code",
   "execution_count": 44,
   "metadata": {},
   "outputs": [
    {
     "data": {
      "text/plain": [
       "2015"
      ]
     },
     "execution_count": 44,
     "metadata": {},
     "output_type": "execute_result"
    }
   ],
   "source": [
    "data19 = data.copy()\n",
    "data19.groupby(['release_year'])['revenue'].sum().sort_values(\n",
    "    ascending=False).head(1).index[0]\n",
    "# Группируем запрос по датам релиза и сумме кассовых сборов"
   ]
  },
  {
   "cell_type": "markdown",
   "metadata": {
    "colab_type": "text",
    "id": "JAzJh4QAVp_z"
   },
   "source": [
    "# 20. Какой самый прибыльный год для студии Warner Bros?"
   ]
  },
  {
   "cell_type": "code",
   "execution_count": 45,
   "metadata": {
    "colab": {},
    "colab_type": "code",
    "id": "wgVu02DEVp_0"
   },
   "outputs": [],
   "source": [
    "answers['20'] = '2014'"
   ]
  },
  {
   "cell_type": "code",
   "execution_count": 46,
   "metadata": {},
   "outputs": [
    {
     "data": {
      "text/plain": [
       "2014"
      ]
     },
     "execution_count": 46,
     "metadata": {},
     "output_type": "execute_result"
    }
   ],
   "source": [
    "data_WB = data.copy()\n",
    "# Делаем копию Дф\n",
    "\n",
    "data_WB = df_explode(data_WB, 'production_companies')\n",
    "# Разбиваем информацию о киностудиях на отдельные строки\n",
    "\n",
    "data_WB = data_WB[data_WB.production_companies.str.contains('Warner Bros')]\n",
    "# Создаем Дф с информацией только о компаниях, имеющих в названии Warner Bros\n",
    "\n",
    "data_WB.groupby(['release_year'])['profit'].sum().sort_values(    \n",
    "    ascending=False).head(1).index[0]\n",
    "# Группируем года выхода и суммарную прибыль по возрастанию"
   ]
  },
  {
   "cell_type": "markdown",
   "metadata": {
    "colab_type": "text",
    "id": "8Im1S2HRVp_4"
   },
   "source": [
    "# 21. В каком месяце за все годы суммарно вышло больше всего фильмов?"
   ]
  },
  {
   "cell_type": "code",
   "execution_count": 47,
   "metadata": {
    "colab": {},
    "colab_type": "code",
    "id": "lev6TH7gVp_4"
   },
   "outputs": [],
   "source": [
    "answers['21'] = 'Сентябрь'"
   ]
  },
  {
   "cell_type": "code",
   "execution_count": 48,
   "metadata": {
    "scrolled": true
   },
   "outputs": [
    {
     "data": {
      "text/plain": [
       "9"
      ]
     },
     "execution_count": 48,
     "metadata": {},
     "output_type": "execute_result"
    }
   ],
   "source": [
    "data21 = data.copy()\n",
    "data21.release_date.dt.month.value_counts().index[0]\n",
    "# Выделяем месяц из столбца с датой"
   ]
  },
  {
   "cell_type": "markdown",
   "metadata": {
    "colab_type": "text",
    "id": "uAJsZ_NeVp_7"
   },
   "source": [
    "# 22. Сколько суммарно вышло фильмов летом? (за июнь, июль, август)"
   ]
  },
  {
   "cell_type": "code",
   "execution_count": 49,
   "metadata": {
    "colab": {},
    "colab_type": "code",
    "id": "Aa-hEREoVp_8"
   },
   "outputs": [],
   "source": [
    "answers['22'] = '450'"
   ]
  },
  {
   "cell_type": "code",
   "execution_count": 50,
   "metadata": {},
   "outputs": [
    {
     "data": {
      "text/plain": [
       "450"
      ]
     },
     "execution_count": 50,
     "metadata": {},
     "output_type": "execute_result"
    }
   ],
   "source": [
    "data22 = data.copy()\n",
    "len(data22[data22.release_date.dt.month.isin([6, 7, 8,])])\n",
    "# Выделяем из даты месяц, фильтруем по летним месяцам и считаем длину"
   ]
  },
  {
   "cell_type": "markdown",
   "metadata": {
    "colab_type": "text",
    "id": "G94ppOY1VqAA"
   },
   "source": [
    "# 23. Для какого режиссера зима – самое продуктивное время года? "
   ]
  },
  {
   "cell_type": "code",
   "execution_count": 51,
   "metadata": {
    "colab": {},
    "colab_type": "code",
    "id": "RhNTsamuVqAB"
   },
   "outputs": [],
   "source": [
    "answers['23'] = 'Peter Jackson'"
   ]
  },
  {
   "cell_type": "code",
   "execution_count": 52,
   "metadata": {},
   "outputs": [
    {
     "data": {
      "text/plain": [
       "'Peter Jackson'"
      ]
     },
     "execution_count": 52,
     "metadata": {},
     "output_type": "execute_result"
    }
   ],
   "source": [
    "data_director = data.copy()\n",
    "\n",
    "data_director = df_explode(data_director, 'director')\n",
    "# Разбиваем информацию о режиссерах на отдельные строки\n",
    "\n",
    "data_director = data_director[data_director.release_date.dt.month.isin(\n",
    "    ['1', '2', '12'])]\n",
    "# Выделяем из Дф информацию только по зимним месяцам\n",
    "\n",
    "data_director.director.value_counts(ascending=False).head(1).index[0]\n",
    "# Выводим кто из режиссеров чаще встречается"
   ]
  },
  {
   "cell_type": "markdown",
   "metadata": {
    "colab_type": "text",
    "id": "RBo0JVjVVqAF"
   },
   "source": [
    "# 24. Какая студия дает самые длинные названия своим фильмам по количеству символов?"
   ]
  },
  {
   "cell_type": "code",
   "execution_count": 53,
   "metadata": {
    "colab": {},
    "colab_type": "code",
    "id": "QRGS8L0iVqAG"
   },
   "outputs": [],
   "source": [
    "answers['24'] = 'Four By Two Productions'"
   ]
  },
  {
   "cell_type": "code",
   "execution_count": 54,
   "metadata": {},
   "outputs": [
    {
     "data": {
      "text/plain": [
       "'Four By Two Productions'"
      ]
     },
     "execution_count": 54,
     "metadata": {},
     "output_type": "execute_result"
    }
   ],
   "source": [
    "data_str = data.copy()\n",
    "\n",
    "data_str['title_length'] = data_str['original_title'].str.len()\n",
    "# Создадим столбец с длиной названия\n",
    "\n",
    "companies = data_str['production_companies'].str.split('|').explode().unique()\n",
    "# Получим список уникальных названий компаний\n",
    "\n",
    "sum_gen = pd.Series(dtype='float64', index=companies)\n",
    "# Создадим серию для хранения средних значений\n",
    "\n",
    "\n",
    "for comp in companies:\n",
    "    sum_gen[comp] = data_str['title_length'][data_str['production_companies'].\n",
    "                          map(lambda x: True if comp in x else False)].mean()\n",
    "# Вычислим среднее значение для всех названий фильмов, созданных компанией\n",
    "\n",
    "    \n",
    "sum_gen.sort_values(ascending=False).head(1).index[0]\n",
    "# Выведем компанию с самыми большими значениями"
   ]
  },
  {
   "cell_type": "markdown",
   "metadata": {
    "colab_type": "text",
    "id": "9G0hbvR7VqAK"
   },
   "source": [
    "# 25. Описание фильмов какой студии в среднем самые длинные по количеству слов?"
   ]
  },
  {
   "cell_type": "code",
   "execution_count": 55,
   "metadata": {
    "colab": {},
    "colab_type": "code",
    "id": "Ge2GsLNxVqAK"
   },
   "outputs": [],
   "source": [
    "answers['25'] = 'Midnight Picture Show'"
   ]
  },
  {
   "cell_type": "code",
   "execution_count": 56,
   "metadata": {},
   "outputs": [
    {
     "data": {
      "text/plain": [
       "'Midnight Picture Show'"
      ]
     },
     "execution_count": 56,
     "metadata": {},
     "output_type": "execute_result"
    }
   ],
   "source": [
    "data_str2 = data.copy()\n",
    "\n",
    "data_str2['overview_length'] = data_str2['overview'].str.split(' ').str.len()\n",
    "# Cоздадим столбец с длиной описаний\n",
    "\n",
    "data_str2 = df_explode(data_str2, 'production_companies')\n",
    "# Разбиваем информацию о киностудиях на отдельные строки\n",
    "\n",
    "data_str2.groupby('production_companies')['overview_length'].mean().idxmax()\n",
    "# Группируем студии и средние длины описаний, выводим студию с макс. значением"
   ]
  },
  {
   "cell_type": "markdown",
   "metadata": {
    "colab_type": "text",
    "id": "FJ1AFt90VqAP"
   },
   "source": [
    "# 26. Какие фильмы входят в 1 процент лучших по рейтингу? "
   ]
  },
  {
   "cell_type": "code",
   "execution_count": 65,
   "metadata": {
    "colab": {},
    "colab_type": "code",
    "id": "8qmJVq4CVqAQ"
   },
   "outputs": [],
   "source": [
    "answers['26'] = 'Inside Out, The Dark Knight, 12 Years a Slave'"
   ]
  },
  {
   "cell_type": "code",
   "execution_count": 64,
   "metadata": {},
   "outputs": [
    {
     "data": {
      "text/plain": [
       "599                                       The Dark Knight\n",
       "9                                              Inside Out\n",
       "34                                                   Room\n",
       "118                                          Interstellar\n",
       "125                                    The Imitation Game\n",
       "370                                             Inception\n",
       "1191                                     12 Years a Slave\n",
       "1183                              The Wolf of Wall Street\n",
       "1081        The Lord of the Rings: The Return of the King\n",
       "872                                           The Pianist\n",
       "1800                                              Memento\n",
       "119                               Guardians of the Galaxy\n",
       "138                              The Grand Budapest Hotel\n",
       "128                                             Gone Girl\n",
       "283                                            Mr. Nobody\n",
       "1688                                  There Will Be Blood\n",
       "1563                Eternal Sunshine of the Spotless Mind\n",
       "1444                                         The Prestige\n",
       "1213                                   Dallas Buyers Club\n",
       "1205                                            Prisoners\n",
       "124                                            Big Hero 6\n",
       "1188                                                  Her\n",
       "316                                              3 Idiots\n",
       "863                 The Lord of the Rings: The Two Towers\n",
       "155                              The Theory of Everything\n",
       "28                                              Spotlight\n",
       "177                                The Fault in Our Stars\n",
       "496     The Lord of the Rings: The Fellowship of the Ring\n",
       "Name: original_title, dtype: object"
      ]
     },
     "execution_count": 64,
     "metadata": {},
     "output_type": "execute_result"
    }
   ],
   "source": [
    "data26 = data.copy()\n",
    "\n",
    "one_procent = np.quantile(data.vote_average, 0.99)\n",
    "# Записываем в переменную 100-ый квантиль средних оценок\n",
    "\n",
    "data26[data26.vote_average >= one_procent].sort_values(\n",
    "    by='vote_average', ascending=False)['original_title']\n",
    "# Выводим все фильмы с оценкой выше или равной квантилю"
   ]
  },
  {
   "cell_type": "markdown",
   "metadata": {
    "colab_type": "text",
    "id": "MdXsUXbCVqAV"
   },
   "source": [
    "# 27. Какие актеры чаще всего снимаются в одном фильме вместе?\n"
   ]
  },
  {
   "cell_type": "code",
   "execution_count": 76,
   "metadata": {},
   "outputs": [],
   "source": [
    "answers['27'] = 'Daniel Radcliffe & Rupert Grint'"
   ]
  },
  {
   "cell_type": "code",
   "execution_count": 75,
   "metadata": {},
   "outputs": [
    {
     "data": {
      "text/plain": [
       "[(('Daniel Radcliffe', 'Rupert Grint'), 8)]"
      ]
     },
     "execution_count": 75,
     "metadata": {},
     "output_type": "execute_result"
    }
   ],
   "source": [
    "data_cast = data.copy()\n",
    "pairs = []  # Список для пар актеров\n",
    "\n",
    "data_cast['cast'] = split(data_cast['cast'])\n",
    "# Разобьем информацию в столбце cast\n",
    "\n",
    "for i in range(0, len(data_cast)):\n",
    "    for item in itertools.combinations(data_cast['cast'][i], 2):\n",
    "        pairs.append(item)\n",
    "# Перебираем все пары актеров, записываем их в список, \n",
    "# указывая количество повторений        \n",
    "        \n",
    "Counter(pairs).most_common(1)\n",
    "# Выводим наиболее часто встречаемые"
   ]
  },
  {
   "cell_type": "markdown",
   "metadata": {
    "colab_type": "text",
    "id": "U0nONFnGVqAX"
   },
   "source": [
    "# Submission"
   ]
  },
  {
   "cell_type": "code",
   "execution_count": 77,
   "metadata": {
    "colab": {},
    "colab_type": "code",
    "id": "IfcaRO9-VqAX",
    "outputId": "0f132912-32bb-4196-c98c-abfbc4ad5a5f"
   },
   "outputs": [
    {
     "data": {
      "text/plain": [
       "{'1': 'Pirates of the Caribbean: On Stranger Tides (tt1298650)',\n",
       " '2': 'Gods and Generals (tt0279111)',\n",
       " '3': 'Winnie the Pooh (tt1449283)',\n",
       " '4': '110',\n",
       " '5': '107',\n",
       " '6': 'Avatar (tt0499549)',\n",
       " '7': 'The Lone Ranger (tt1210819)',\n",
       " '8': '1478',\n",
       " '9': 'The Dark Knight (tt0468569)',\n",
       " '10': 'The Lone Ranger (tt1210819)',\n",
       " '11': 'Drama',\n",
       " '12': 'Drama',\n",
       " '13': 'Peter Jackson',\n",
       " '14': 'Robert Rodriguez',\n",
       " '15': 'Chris Hemsworth',\n",
       " '16': 'Matt Damon',\n",
       " '17': 'Action',\n",
       " '18': 'K-19: The Widowmaker (tt0267626)',\n",
       " '19': '2015',\n",
       " '20': '2014',\n",
       " '21': 'Сентябрь',\n",
       " '22': '450',\n",
       " '23': 'Peter Jackson',\n",
       " '24': 'Four By Two Productions',\n",
       " '25': 'Midnight Picture Show',\n",
       " '26': 'Inside Out, The Dark Knight, 12 Years a Slave',\n",
       " '27': 'Daniel Radcliffe & Rupert Grint'}"
      ]
     },
     "execution_count": 77,
     "metadata": {},
     "output_type": "execute_result"
    }
   ],
   "source": [
    "# в конце можно посмотреть свои ответы к каждому вопросу\n",
    "answers"
   ]
  },
  {
   "cell_type": "code",
   "execution_count": 62,
   "metadata": {
    "colab": {},
    "colab_type": "code",
    "id": "SiRmHPl8VqAd"
   },
   "outputs": [
    {
     "data": {
      "text/plain": [
       "27"
      ]
     },
     "execution_count": 62,
     "metadata": {},
     "output_type": "execute_result"
    }
   ],
   "source": [
    "# и убедиться, что ничего не пропустил)\n",
    "len(answers)"
   ]
  }
 ],
 "metadata": {
  "colab": {
   "name": "Copy of [SF-DST] Movies IMBD v4.1 TEMPLATE.ipynb",
   "provenance": []
  },
  "kernelspec": {
   "display_name": "Python 3",
   "language": "python",
   "name": "python3"
  },
  "language_info": {
   "codemirror_mode": {
    "name": "ipython",
    "version": 3
   },
   "file_extension": ".py",
   "mimetype": "text/x-python",
   "name": "python",
   "nbconvert_exporter": "python",
   "pygments_lexer": "ipython3",
   "version": "3.8.5"
  }
 },
 "nbformat": 4,
 "nbformat_minor": 1
}
